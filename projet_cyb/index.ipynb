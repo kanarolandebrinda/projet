{
  "cells": [
    {
      "attachments": {},
      "cell_type": "markdown",
      "metadata": {
        "id": "XYwle72reSRn"
      },
      "source": [
        "# Analyse d'une Chaine de vente "
      ]
    },
    {
      "attachments": {},
      "cell_type": "markdown",
      "metadata": {
        "id": "gPYX81VDeY4i"
      },
      "source": [
        "\n",
        "\n",
        "Nous allons analyser ces données pour répondre aux questions suivantes:\n",
        "\n",
        "* Quel est le meilleur mois de vente ? \n",
        "* Dans quelle ville a-t-on le plus vendu de produits ?\n",
        "* A quelle heure devons-nous passer de la publicité pour augmenter nos ventes ?\n",
        "* Quel produit a-t-on le plus vendu ?\n",
        "\n",
        "\n",
        "\n"
      ]
    },
    {
      "cell_type": "markdown",
      "metadata": {
        "id": "GGdbaOQtekFB"
      },
      "source": [
        "## Importer les données"
      ]
    },
    {
      "attachments": {},
      "cell_type": "markdown",
      "metadata": {
        "id": "Tw5oA5KZewgK"
      },
      "source": []
    },
    {
      "cell_type": "code",
      "execution_count": 1,
      "metadata": {
        "id": "blYxjRZrfydE"
      },
      "outputs": [],
      "source": [
        "import pandas as pd\n",
        "import matplotlib.pyplot as plt\n",
        "import seaborn as sns\n",
        "import numpy as np\n",
        "import os"
      ]
    },
    {
      "cell_type": "code",
      "execution_count": 2,
      "metadata": {
        "id": "fXmY3Mdzev82"
      },
      "outputs": [],
      "source": [
        "data = \"data/\""
      ]
    },
    {
      "cell_type": "code",
      "execution_count": 3,
      "metadata": {
        "colab": {
          "base_uri": "https://localhost:8080/"
        },
        "id": "dJXULfJofHQy",
        "outputId": "1c1ebcbf-68b8-4594-f69a-89f8f3da12cb"
      },
      "outputs": [
        {
          "data": {
            "text/plain": [
              "['Sales_April_2019.csv',\n",
              " 'Sales_August_2019.csv',\n",
              " 'Sales_December_2019.csv',\n",
              " 'Sales_February_2019.csv',\n",
              " 'Sales_January_2019.csv',\n",
              " 'Sales_July_2019.csv',\n",
              " 'Sales_June_2019.csv',\n",
              " 'Sales_March_2019.csv',\n",
              " 'Sales_May_2019.csv',\n",
              " 'Sales_November_2019.csv',\n",
              " 'Sales_October_2019.csv',\n",
              " 'Sales_September_2019.csv']"
            ]
          },
          "execution_count": 3,
          "metadata": {},
          "output_type": "execute_result"
        }
      ],
      "source": [
        "os.listdir(data)"
      ]
    },
    {
      "attachments": {},
      "cell_type": "markdown",
      "metadata": {
        "id": "yX-Yugqrfqcq"
      },
      "source": [
        "Jetons un coup d'oeil à la data d'un mois, celui de Janvier."
      ]
    },
    {
      "cell_type": "code",
      "execution_count": 4,
      "metadata": {
        "id": "fLkn7VToe3ia"
      },
      "outputs": [],
      "source": [
        "janvier_sales = pd.read_csv(data + \"Sales_January_2019.csv\")"
      ]
    },
    {
      "cell_type": "code",
      "execution_count": 5,
      "metadata": {
        "colab": {
          "base_uri": "https://localhost:8080/",
          "height": 306
        },
        "id": "96S2v2FFdd19",
        "outputId": "99f9a7fa-3307-4863-e04c-390cfef68a8a"
      },
      "outputs": [
        {
          "data": {
            "text/html": [
              "<div>\n",
              "<style scoped>\n",
              "    .dataframe tbody tr th:only-of-type {\n",
              "        vertical-align: middle;\n",
              "    }\n",
              "\n",
              "    .dataframe tbody tr th {\n",
              "        vertical-align: top;\n",
              "    }\n",
              "\n",
              "    .dataframe thead th {\n",
              "        text-align: right;\n",
              "    }\n",
              "</style>\n",
              "<table border=\"1\" class=\"dataframe\">\n",
              "  <thead>\n",
              "    <tr style=\"text-align: right;\">\n",
              "      <th></th>\n",
              "      <th>Order ID</th>\n",
              "      <th>Product</th>\n",
              "      <th>Quantity Ordered</th>\n",
              "      <th>Price Each</th>\n",
              "      <th>Order Date</th>\n",
              "      <th>Purchase Address</th>\n",
              "    </tr>\n",
              "  </thead>\n",
              "  <tbody>\n",
              "    <tr>\n",
              "      <th>0</th>\n",
              "      <td>141234</td>\n",
              "      <td>iPhone</td>\n",
              "      <td>1</td>\n",
              "      <td>700</td>\n",
              "      <td>01/22/19 21:25</td>\n",
              "      <td>944 Walnut St, Boston, MA 02215</td>\n",
              "    </tr>\n",
              "    <tr>\n",
              "      <th>1</th>\n",
              "      <td>141235</td>\n",
              "      <td>Lightning Charging Cable</td>\n",
              "      <td>1</td>\n",
              "      <td>14.95</td>\n",
              "      <td>01/28/19 14:15</td>\n",
              "      <td>185 Maple St, Portland, OR 97035</td>\n",
              "    </tr>\n",
              "    <tr>\n",
              "      <th>2</th>\n",
              "      <td>141236</td>\n",
              "      <td>Wired Headphones</td>\n",
              "      <td>2</td>\n",
              "      <td>11.99</td>\n",
              "      <td>01/17/19 13:33</td>\n",
              "      <td>538 Adams St, San Francisco, CA 94016</td>\n",
              "    </tr>\n",
              "    <tr>\n",
              "      <th>3</th>\n",
              "      <td>141237</td>\n",
              "      <td>27in FHD Monitor</td>\n",
              "      <td>1</td>\n",
              "      <td>149.99</td>\n",
              "      <td>01/05/19 20:33</td>\n",
              "      <td>738 10th St, Los Angeles, CA 90001</td>\n",
              "    </tr>\n",
              "    <tr>\n",
              "      <th>4</th>\n",
              "      <td>141238</td>\n",
              "      <td>Wired Headphones</td>\n",
              "      <td>1</td>\n",
              "      <td>11.99</td>\n",
              "      <td>01/25/19 11:59</td>\n",
              "      <td>387 10th St, Austin, TX 73301</td>\n",
              "    </tr>\n",
              "  </tbody>\n",
              "</table>\n",
              "</div>"
            ],
            "text/plain": [
              "  Order ID                   Product Quantity Ordered Price Each  \\\n",
              "0   141234                    iPhone                1        700   \n",
              "1   141235  Lightning Charging Cable                1      14.95   \n",
              "2   141236          Wired Headphones                2      11.99   \n",
              "3   141237          27in FHD Monitor                1     149.99   \n",
              "4   141238          Wired Headphones                1      11.99   \n",
              "\n",
              "       Order Date                       Purchase Address  \n",
              "0  01/22/19 21:25        944 Walnut St, Boston, MA 02215  \n",
              "1  01/28/19 14:15       185 Maple St, Portland, OR 97035  \n",
              "2  01/17/19 13:33  538 Adams St, San Francisco, CA 94016  \n",
              "3  01/05/19 20:33     738 10th St, Los Angeles, CA 90001  \n",
              "4  01/25/19 11:59          387 10th St, Austin, TX 73301  "
            ]
          },
          "execution_count": 5,
          "metadata": {},
          "output_type": "execute_result"
        }
      ],
      "source": [
        "janvier_sales.head()"
      ]
    },
    {
      "cell_type": "code",
      "execution_count": 6,
      "metadata": {
        "colab": {
          "base_uri": "https://localhost:8080/",
          "height": 171
        },
        "id": "Hz6YGdVEgHPE",
        "outputId": "d9a1d4d2-d25d-4456-fddd-00187ff351a0"
      },
      "outputs": [
        {
          "data": {
            "text/html": [
              "<div>\n",
              "<style scoped>\n",
              "    .dataframe tbody tr th:only-of-type {\n",
              "        vertical-align: middle;\n",
              "    }\n",
              "\n",
              "    .dataframe tbody tr th {\n",
              "        vertical-align: top;\n",
              "    }\n",
              "\n",
              "    .dataframe thead th {\n",
              "        text-align: right;\n",
              "    }\n",
              "</style>\n",
              "<table border=\"1\" class=\"dataframe\">\n",
              "  <thead>\n",
              "    <tr style=\"text-align: right;\">\n",
              "      <th></th>\n",
              "      <th>Order ID</th>\n",
              "      <th>Product</th>\n",
              "      <th>Quantity Ordered</th>\n",
              "      <th>Price Each</th>\n",
              "      <th>Order Date</th>\n",
              "      <th>Purchase Address</th>\n",
              "    </tr>\n",
              "  </thead>\n",
              "  <tbody>\n",
              "    <tr>\n",
              "      <th>count</th>\n",
              "      <td>9697</td>\n",
              "      <td>9697</td>\n",
              "      <td>9697</td>\n",
              "      <td>9697</td>\n",
              "      <td>9697</td>\n",
              "      <td>9697</td>\n",
              "    </tr>\n",
              "    <tr>\n",
              "      <th>unique</th>\n",
              "      <td>9269</td>\n",
              "      <td>20</td>\n",
              "      <td>8</td>\n",
              "      <td>19</td>\n",
              "      <td>8077</td>\n",
              "      <td>9161</td>\n",
              "    </tr>\n",
              "    <tr>\n",
              "      <th>top</th>\n",
              "      <td>Order ID</td>\n",
              "      <td>USB-C Charging Cable</td>\n",
              "      <td>1</td>\n",
              "      <td>11.95</td>\n",
              "      <td>Order Date</td>\n",
              "      <td>Purchase Address</td>\n",
              "    </tr>\n",
              "    <tr>\n",
              "      <th>freq</th>\n",
              "      <td>16</td>\n",
              "      <td>1171</td>\n",
              "      <td>8795</td>\n",
              "      <td>1171</td>\n",
              "      <td>16</td>\n",
              "      <td>16</td>\n",
              "    </tr>\n",
              "  </tbody>\n",
              "</table>\n",
              "</div>"
            ],
            "text/plain": [
              "        Order ID               Product Quantity Ordered Price Each  \\\n",
              "count       9697                  9697             9697       9697   \n",
              "unique      9269                    20                8         19   \n",
              "top     Order ID  USB-C Charging Cable                1      11.95   \n",
              "freq          16                  1171             8795       1171   \n",
              "\n",
              "        Order Date  Purchase Address  \n",
              "count         9697              9697  \n",
              "unique        8077              9161  \n",
              "top     Order Date  Purchase Address  \n",
              "freq            16                16  "
            ]
          },
          "execution_count": 6,
          "metadata": {},
          "output_type": "execute_result"
        }
      ],
      "source": [
        "janvier_sales.describe()"
      ]
    },
    {
      "cell_type": "code",
      "execution_count": 7,
      "metadata": {
        "colab": {
          "base_uri": "https://localhost:8080/"
        },
        "id": "jvzKWuGxiYra",
        "outputId": "c34f49f1-5b4e-402c-c215-72eddeb7a7f0"
      },
      "outputs": [
        {
          "data": {
            "text/plain": [
              "Index(['Order ID', 'Product', 'Quantity Ordered', 'Price Each', 'Order Date',\n",
              "       'Purchase Address'],\n",
              "      dtype='object')"
            ]
          },
          "execution_count": 7,
          "metadata": {},
          "output_type": "execute_result"
        }
      ],
      "source": [
        "janvier_sales.columns"
      ]
    },
    {
      "cell_type": "code",
      "execution_count": 8,
      "metadata": {
        "colab": {
          "base_uri": "https://localhost:8080/"
        },
        "id": "oSbrxou7gHWg",
        "outputId": "d9f78409-23f4-4439-9d49-de472ea44700"
      },
      "outputs": [
        {
          "name": "stdout",
          "output_type": "stream",
          "text": [
            "<class 'pandas.core.frame.DataFrame'>\n",
            "RangeIndex: 9723 entries, 0 to 9722\n",
            "Data columns (total 6 columns):\n",
            " #   Column            Non-Null Count  Dtype \n",
            "---  ------            --------------  ----- \n",
            " 0   Order ID          9697 non-null   object\n",
            " 1   Product           9697 non-null   object\n",
            " 2   Quantity Ordered  9697 non-null   object\n",
            " 3   Price Each        9697 non-null   object\n",
            " 4   Order Date        9697 non-null   object\n",
            " 5   Purchase Address  9697 non-null   object\n",
            "dtypes: object(6)\n",
            "memory usage: 455.9+ KB\n"
          ]
        }
      ],
      "source": [
        "janvier_sales.info()"
      ]
    },
    {
      "cell_type": "markdown",
      "metadata": {
        "id": "wbll9Yosjxyg"
      },
      "source": [
        "## Merger la data"
      ]
    },
    {
      "cell_type": "code",
      "execution_count": 9,
      "metadata": {
        "colab": {
          "base_uri": "https://localhost:8080/"
        },
        "id": "6kr0FdYzkPBA",
        "outputId": "3bd2edbe-33eb-4010-9f61-04f350667219"
      },
      "outputs": [
        {
          "data": {
            "text/plain": [
              "['Sales_April_2019.csv',\n",
              " 'Sales_August_2019.csv',\n",
              " 'Sales_December_2019.csv',\n",
              " 'Sales_February_2019.csv',\n",
              " 'Sales_January_2019.csv',\n",
              " 'Sales_July_2019.csv',\n",
              " 'Sales_June_2019.csv',\n",
              " 'Sales_March_2019.csv',\n",
              " 'Sales_May_2019.csv',\n",
              " 'Sales_November_2019.csv',\n",
              " 'Sales_October_2019.csv',\n",
              " 'Sales_September_2019.csv']"
            ]
          },
          "execution_count": 9,
          "metadata": {},
          "output_type": "execute_result"
        }
      ],
      "source": [
        "files = [fichier for fichier in os.listdir(data) if fichier.endswith('.csv')]\n",
        "files"
      ]
    },
    {
      "cell_type": "code",
      "execution_count": 10,
      "metadata": {
        "id": "PVKxuTA8h6q0"
      },
      "outputs": [],
      "source": [
        "df = pd.DataFrame()\n",
        "\n",
        "for file in files:\n",
        "  data_interm = pd.read_csv(data + file)\n",
        "  df = pd.concat([df, data_interm])\n"
      ]
    },
    {
      "cell_type": "code",
      "execution_count": 11,
      "metadata": {
        "colab": {
          "base_uri": "https://localhost:8080/"
        },
        "id": "nA6L0juelANH",
        "outputId": "11120b3c-e49f-4560-8cdb-384131694515"
      },
      "outputs": [
        {
          "data": {
            "text/plain": [
              "(186850, 6)"
            ]
          },
          "execution_count": 11,
          "metadata": {},
          "output_type": "execute_result"
        }
      ],
      "source": [
        "df.shape"
      ]
    },
    {
      "cell_type": "code",
      "execution_count": 12,
      "metadata": {
        "colab": {
          "base_uri": "https://localhost:8080/",
          "height": 171
        },
        "id": "XaFtzwx0lDHn",
        "outputId": "6e44d80b-be36-4565-d325-aa718042a0ab"
      },
      "outputs": [
        {
          "data": {
            "text/html": [
              "<div>\n",
              "<style scoped>\n",
              "    .dataframe tbody tr th:only-of-type {\n",
              "        vertical-align: middle;\n",
              "    }\n",
              "\n",
              "    .dataframe tbody tr th {\n",
              "        vertical-align: top;\n",
              "    }\n",
              "\n",
              "    .dataframe thead th {\n",
              "        text-align: right;\n",
              "    }\n",
              "</style>\n",
              "<table border=\"1\" class=\"dataframe\">\n",
              "  <thead>\n",
              "    <tr style=\"text-align: right;\">\n",
              "      <th></th>\n",
              "      <th>Order ID</th>\n",
              "      <th>Product</th>\n",
              "      <th>Quantity Ordered</th>\n",
              "      <th>Price Each</th>\n",
              "      <th>Order Date</th>\n",
              "      <th>Purchase Address</th>\n",
              "    </tr>\n",
              "  </thead>\n",
              "  <tbody>\n",
              "    <tr>\n",
              "      <th>count</th>\n",
              "      <td>186305</td>\n",
              "      <td>186305</td>\n",
              "      <td>186305</td>\n",
              "      <td>186305</td>\n",
              "      <td>186305</td>\n",
              "      <td>186305</td>\n",
              "    </tr>\n",
              "    <tr>\n",
              "      <th>unique</th>\n",
              "      <td>178438</td>\n",
              "      <td>20</td>\n",
              "      <td>10</td>\n",
              "      <td>24</td>\n",
              "      <td>142396</td>\n",
              "      <td>140788</td>\n",
              "    </tr>\n",
              "    <tr>\n",
              "      <th>top</th>\n",
              "      <td>Order ID</td>\n",
              "      <td>USB-C Charging Cable</td>\n",
              "      <td>1</td>\n",
              "      <td>11.95</td>\n",
              "      <td>Order Date</td>\n",
              "      <td>Purchase Address</td>\n",
              "    </tr>\n",
              "    <tr>\n",
              "      <th>freq</th>\n",
              "      <td>355</td>\n",
              "      <td>21903</td>\n",
              "      <td>168552</td>\n",
              "      <td>21903</td>\n",
              "      <td>355</td>\n",
              "      <td>355</td>\n",
              "    </tr>\n",
              "  </tbody>\n",
              "</table>\n",
              "</div>"
            ],
            "text/plain": [
              "        Order ID               Product Quantity Ordered Price Each  \\\n",
              "count     186305                186305           186305     186305   \n",
              "unique    178438                    20               10         24   \n",
              "top     Order ID  USB-C Charging Cable                1      11.95   \n",
              "freq         355                 21903           168552      21903   \n",
              "\n",
              "        Order Date  Purchase Address  \n",
              "count       186305            186305  \n",
              "unique      142396            140788  \n",
              "top     Order Date  Purchase Address  \n",
              "freq           355               355  "
            ]
          },
          "execution_count": 12,
          "metadata": {},
          "output_type": "execute_result"
        }
      ],
      "source": [
        "df.describe()"
      ]
    },
    {
      "cell_type": "code",
      "execution_count": 13,
      "metadata": {
        "colab": {
          "base_uri": "https://localhost:8080/"
        },
        "id": "ABNjpFp3lG5U",
        "outputId": "cd80845c-dc17-4edb-a8a3-cdf33dc265e8"
      },
      "outputs": [
        {
          "name": "stdout",
          "output_type": "stream",
          "text": [
            "<class 'pandas.core.frame.DataFrame'>\n",
            "Int64Index: 186850 entries, 0 to 11685\n",
            "Data columns (total 6 columns):\n",
            " #   Column            Non-Null Count   Dtype \n",
            "---  ------            --------------   ----- \n",
            " 0   Order ID          186305 non-null  object\n",
            " 1   Product           186305 non-null  object\n",
            " 2   Quantity Ordered  186305 non-null  object\n",
            " 3   Price Each        186305 non-null  object\n",
            " 4   Order Date        186305 non-null  object\n",
            " 5   Purchase Address  186305 non-null  object\n",
            "dtypes: object(6)\n",
            "memory usage: 10.0+ MB\n"
          ]
        }
      ],
      "source": [
        "df.info()"
      ]
    },
    {
      "cell_type": "markdown",
      "metadata": {
        "id": "OvpB00aOlWk0"
      },
      "source": [
        "## Nettoyage de la data"
      ]
    },
    {
      "cell_type": "code",
      "execution_count": 14,
      "metadata": {
        "colab": {
          "base_uri": "https://localhost:8080/"
        },
        "id": "HCNpplZklL9V",
        "outputId": "07b81d67-6a2e-49f7-af4f-61efcb0628d4"
      },
      "outputs": [
        {
          "data": {
            "text/plain": [
              "Order ID            545\n",
              "Product             545\n",
              "Quantity Ordered    545\n",
              "Price Each          545\n",
              "Order Date          545\n",
              "Purchase Address    545\n",
              "dtype: int64"
            ]
          },
          "execution_count": 14,
          "metadata": {},
          "output_type": "execute_result"
        }
      ],
      "source": [
        "df.isnull().sum(axis=0)"
      ]
    },
    {
      "cell_type": "markdown",
      "metadata": {
        "id": "nTAaBOZxlwSW"
      },
      "source": [
        "Affichon un df avec toutes les lignes qui ont au moins une valeur manquante"
      ]
    },
    {
      "cell_type": "code",
      "execution_count": 15,
      "metadata": {
        "colab": {
          "base_uri": "https://localhost:8080/",
          "height": 415
        },
        "id": "k_giM40ulj9r",
        "outputId": "6abf7428-67a6-4638-f238-ca4c93b6a791"
      },
      "outputs": [
        {
          "data": {
            "text/html": [
              "<div>\n",
              "<style scoped>\n",
              "    .dataframe tbody tr th:only-of-type {\n",
              "        vertical-align: middle;\n",
              "    }\n",
              "\n",
              "    .dataframe tbody tr th {\n",
              "        vertical-align: top;\n",
              "    }\n",
              "\n",
              "    .dataframe thead th {\n",
              "        text-align: right;\n",
              "    }\n",
              "</style>\n",
              "<table border=\"1\" class=\"dataframe\">\n",
              "  <thead>\n",
              "    <tr style=\"text-align: right;\">\n",
              "      <th></th>\n",
              "      <th>Order ID</th>\n",
              "      <th>Product</th>\n",
              "      <th>Quantity Ordered</th>\n",
              "      <th>Price Each</th>\n",
              "      <th>Order Date</th>\n",
              "      <th>Purchase Address</th>\n",
              "    </tr>\n",
              "  </thead>\n",
              "  <tbody>\n",
              "    <tr>\n",
              "      <th>1</th>\n",
              "      <td>NaN</td>\n",
              "      <td>NaN</td>\n",
              "      <td>NaN</td>\n",
              "      <td>NaN</td>\n",
              "      <td>NaN</td>\n",
              "      <td>NaN</td>\n",
              "    </tr>\n",
              "    <tr>\n",
              "      <th>356</th>\n",
              "      <td>NaN</td>\n",
              "      <td>NaN</td>\n",
              "      <td>NaN</td>\n",
              "      <td>NaN</td>\n",
              "      <td>NaN</td>\n",
              "      <td>NaN</td>\n",
              "    </tr>\n",
              "    <tr>\n",
              "      <th>735</th>\n",
              "      <td>NaN</td>\n",
              "      <td>NaN</td>\n",
              "      <td>NaN</td>\n",
              "      <td>NaN</td>\n",
              "      <td>NaN</td>\n",
              "      <td>NaN</td>\n",
              "    </tr>\n",
              "    <tr>\n",
              "      <th>1433</th>\n",
              "      <td>NaN</td>\n",
              "      <td>NaN</td>\n",
              "      <td>NaN</td>\n",
              "      <td>NaN</td>\n",
              "      <td>NaN</td>\n",
              "      <td>NaN</td>\n",
              "    </tr>\n",
              "    <tr>\n",
              "      <th>1553</th>\n",
              "      <td>NaN</td>\n",
              "      <td>NaN</td>\n",
              "      <td>NaN</td>\n",
              "      <td>NaN</td>\n",
              "      <td>NaN</td>\n",
              "      <td>NaN</td>\n",
              "    </tr>\n",
              "    <tr>\n",
              "      <th>...</th>\n",
              "      <td>...</td>\n",
              "      <td>...</td>\n",
              "      <td>...</td>\n",
              "      <td>...</td>\n",
              "      <td>...</td>\n",
              "      <td>...</td>\n",
              "    </tr>\n",
              "    <tr>\n",
              "      <th>10012</th>\n",
              "      <td>NaN</td>\n",
              "      <td>NaN</td>\n",
              "      <td>NaN</td>\n",
              "      <td>NaN</td>\n",
              "      <td>NaN</td>\n",
              "      <td>NaN</td>\n",
              "    </tr>\n",
              "    <tr>\n",
              "      <th>10274</th>\n",
              "      <td>NaN</td>\n",
              "      <td>NaN</td>\n",
              "      <td>NaN</td>\n",
              "      <td>NaN</td>\n",
              "      <td>NaN</td>\n",
              "      <td>NaN</td>\n",
              "    </tr>\n",
              "    <tr>\n",
              "      <th>10878</th>\n",
              "      <td>NaN</td>\n",
              "      <td>NaN</td>\n",
              "      <td>NaN</td>\n",
              "      <td>NaN</td>\n",
              "      <td>NaN</td>\n",
              "      <td>NaN</td>\n",
              "    </tr>\n",
              "    <tr>\n",
              "      <th>11384</th>\n",
              "      <td>NaN</td>\n",
              "      <td>NaN</td>\n",
              "      <td>NaN</td>\n",
              "      <td>NaN</td>\n",
              "      <td>NaN</td>\n",
              "      <td>NaN</td>\n",
              "    </tr>\n",
              "    <tr>\n",
              "      <th>11662</th>\n",
              "      <td>NaN</td>\n",
              "      <td>NaN</td>\n",
              "      <td>NaN</td>\n",
              "      <td>NaN</td>\n",
              "      <td>NaN</td>\n",
              "      <td>NaN</td>\n",
              "    </tr>\n",
              "  </tbody>\n",
              "</table>\n",
              "<p>545 rows × 6 columns</p>\n",
              "</div>"
            ],
            "text/plain": [
              "      Order ID Product Quantity Ordered Price Each Order Date Purchase Address\n",
              "1          NaN     NaN              NaN        NaN        NaN              NaN\n",
              "356        NaN     NaN              NaN        NaN        NaN              NaN\n",
              "735        NaN     NaN              NaN        NaN        NaN              NaN\n",
              "1433       NaN     NaN              NaN        NaN        NaN              NaN\n",
              "1553       NaN     NaN              NaN        NaN        NaN              NaN\n",
              "...        ...     ...              ...        ...        ...              ...\n",
              "10012      NaN     NaN              NaN        NaN        NaN              NaN\n",
              "10274      NaN     NaN              NaN        NaN        NaN              NaN\n",
              "10878      NaN     NaN              NaN        NaN        NaN              NaN\n",
              "11384      NaN     NaN              NaN        NaN        NaN              NaN\n",
              "11662      NaN     NaN              NaN        NaN        NaN              NaN\n",
              "\n",
              "[545 rows x 6 columns]"
            ]
          },
          "execution_count": 15,
          "metadata": {},
          "output_type": "execute_result"
        }
      ],
      "source": [
        "val_manquantes = df[df.isnull().any(axis=1)]\n",
        "val_manquantes"
      ]
    },
    {
      "cell_type": "markdown",
      "metadata": {
        "id": "kLCZ_3Yyme83"
      },
      "source": [
        "Est-ce que toutes les lignes n'ont que des valeurs manquantes"
      ]
    },
    {
      "cell_type": "code",
      "execution_count": 16,
      "metadata": {
        "colab": {
          "base_uri": "https://localhost:8080/"
        },
        "id": "kVObj-g4mTSX",
        "outputId": "0a0f261f-1791-45d1-8f30-6ee3fc2112f6"
      },
      "outputs": [
        {
          "data": {
            "text/plain": [
              "Order ID            True\n",
              "Product             True\n",
              "Quantity Ordered    True\n",
              "Price Each          True\n",
              "Order Date          True\n",
              "Purchase Address    True\n",
              "dtype: bool"
            ]
          },
          "execution_count": 16,
          "metadata": {},
          "output_type": "execute_result"
        }
      ],
      "source": [
        "val_manquantes.isnull().all()"
      ]
    },
    {
      "cell_type": "markdown",
      "metadata": {
        "id": "uwXzqNsgnJci"
      },
      "source": [
        "Supprimer toutes les lignes avec des valeurs manquantes: "
      ]
    },
    {
      "cell_type": "code",
      "execution_count": 17,
      "metadata": {
        "colab": {
          "base_uri": "https://localhost:8080/"
        },
        "id": "zCgsylZVn04N",
        "outputId": "426c9641-2a01-4f5f-db71-20aab7addb13"
      },
      "outputs": [
        {
          "data": {
            "text/plain": [
              "(186850, 6)"
            ]
          },
          "execution_count": 17,
          "metadata": {},
          "output_type": "execute_result"
        }
      ],
      "source": [
        "df.shape"
      ]
    },
    {
      "cell_type": "code",
      "execution_count": 18,
      "metadata": {
        "id": "HMklY3wvmrs7"
      },
      "outputs": [],
      "source": [
        "df.dropna(inplace=True)"
      ]
    },
    {
      "cell_type": "code",
      "execution_count": 19,
      "metadata": {
        "colab": {
          "base_uri": "https://localhost:8080/"
        },
        "id": "FqLd2EdHn22X",
        "outputId": "2de04adf-d480-45ac-c690-bdc6aa95141a"
      },
      "outputs": [
        {
          "data": {
            "text/plain": [
              "(186305, 6)"
            ]
          },
          "execution_count": 19,
          "metadata": {},
          "output_type": "execute_result"
        }
      ],
      "source": [
        "df.shape"
      ]
    },
    {
      "cell_type": "code",
      "execution_count": 20,
      "metadata": {
        "colab": {
          "base_uri": "https://localhost:8080/"
        },
        "id": "KvW88iuFn4EJ",
        "outputId": "49f645b9-52df-43c3-a447-a197a2f1f658"
      },
      "outputs": [
        {
          "data": {
            "text/plain": [
              "Order ID            False\n",
              "Product             False\n",
              "Quantity Ordered    False\n",
              "Price Each          False\n",
              "Order Date          False\n",
              "Purchase Address    False\n",
              "dtype: bool"
            ]
          },
          "execution_count": 20,
          "metadata": {},
          "output_type": "execute_result"
        }
      ],
      "source": [
        "df.isnull().any()"
      ]
    },
    {
      "cell_type": "code",
      "execution_count": 21,
      "metadata": {
        "colab": {
          "base_uri": "https://localhost:8080/",
          "height": 171
        },
        "id": "J_7aimkjoByd",
        "outputId": "59b455a9-4768-4039-8650-8e2feb4d8d93"
      },
      "outputs": [
        {
          "data": {
            "text/html": [
              "<div>\n",
              "<style scoped>\n",
              "    .dataframe tbody tr th:only-of-type {\n",
              "        vertical-align: middle;\n",
              "    }\n",
              "\n",
              "    .dataframe tbody tr th {\n",
              "        vertical-align: top;\n",
              "    }\n",
              "\n",
              "    .dataframe thead th {\n",
              "        text-align: right;\n",
              "    }\n",
              "</style>\n",
              "<table border=\"1\" class=\"dataframe\">\n",
              "  <thead>\n",
              "    <tr style=\"text-align: right;\">\n",
              "      <th></th>\n",
              "      <th>Order ID</th>\n",
              "      <th>Product</th>\n",
              "      <th>Quantity Ordered</th>\n",
              "      <th>Price Each</th>\n",
              "      <th>Order Date</th>\n",
              "      <th>Purchase Address</th>\n",
              "    </tr>\n",
              "  </thead>\n",
              "  <tbody>\n",
              "    <tr>\n",
              "      <th>count</th>\n",
              "      <td>186305</td>\n",
              "      <td>186305</td>\n",
              "      <td>186305</td>\n",
              "      <td>186305</td>\n",
              "      <td>186305</td>\n",
              "      <td>186305</td>\n",
              "    </tr>\n",
              "    <tr>\n",
              "      <th>unique</th>\n",
              "      <td>178438</td>\n",
              "      <td>20</td>\n",
              "      <td>10</td>\n",
              "      <td>24</td>\n",
              "      <td>142396</td>\n",
              "      <td>140788</td>\n",
              "    </tr>\n",
              "    <tr>\n",
              "      <th>top</th>\n",
              "      <td>Order ID</td>\n",
              "      <td>USB-C Charging Cable</td>\n",
              "      <td>1</td>\n",
              "      <td>11.95</td>\n",
              "      <td>Order Date</td>\n",
              "      <td>Purchase Address</td>\n",
              "    </tr>\n",
              "    <tr>\n",
              "      <th>freq</th>\n",
              "      <td>355</td>\n",
              "      <td>21903</td>\n",
              "      <td>168552</td>\n",
              "      <td>21903</td>\n",
              "      <td>355</td>\n",
              "      <td>355</td>\n",
              "    </tr>\n",
              "  </tbody>\n",
              "</table>\n",
              "</div>"
            ],
            "text/plain": [
              "        Order ID               Product Quantity Ordered Price Each  \\\n",
              "count     186305                186305           186305     186305   \n",
              "unique    178438                    20               10         24   \n",
              "top     Order ID  USB-C Charging Cable                1      11.95   \n",
              "freq         355                 21903           168552      21903   \n",
              "\n",
              "        Order Date  Purchase Address  \n",
              "count       186305            186305  \n",
              "unique      142396            140788  \n",
              "top     Order Date  Purchase Address  \n",
              "freq           355               355  "
            ]
          },
          "execution_count": 21,
          "metadata": {},
          "output_type": "execute_result"
        }
      ],
      "source": [
        "df.describe()"
      ]
    },
    {
      "cell_type": "markdown",
      "metadata": {
        "id": "fNl-DtczoNbF"
      },
      "source": [
        "Débarassons-nous des lignes avec des valeurs abérantes"
      ]
    },
    {
      "cell_type": "code",
      "execution_count": 22,
      "metadata": {
        "colab": {
          "base_uri": "https://localhost:8080/",
          "height": 415
        },
        "id": "Z10JkeUcoFtQ",
        "outputId": "2241ccfe-6491-46d1-966b-01fd48e84a03"
      },
      "outputs": [
        {
          "data": {
            "text/html": [
              "<div>\n",
              "<style scoped>\n",
              "    .dataframe tbody tr th:only-of-type {\n",
              "        vertical-align: middle;\n",
              "    }\n",
              "\n",
              "    .dataframe tbody tr th {\n",
              "        vertical-align: top;\n",
              "    }\n",
              "\n",
              "    .dataframe thead th {\n",
              "        text-align: right;\n",
              "    }\n",
              "</style>\n",
              "<table border=\"1\" class=\"dataframe\">\n",
              "  <thead>\n",
              "    <tr style=\"text-align: right;\">\n",
              "      <th></th>\n",
              "      <th>Order ID</th>\n",
              "      <th>Product</th>\n",
              "      <th>Quantity Ordered</th>\n",
              "      <th>Price Each</th>\n",
              "      <th>Order Date</th>\n",
              "      <th>Purchase Address</th>\n",
              "    </tr>\n",
              "  </thead>\n",
              "  <tbody>\n",
              "    <tr>\n",
              "      <th>519</th>\n",
              "      <td>Order ID</td>\n",
              "      <td>Product</td>\n",
              "      <td>Quantity Ordered</td>\n",
              "      <td>Price Each</td>\n",
              "      <td>Order Date</td>\n",
              "      <td>Purchase Address</td>\n",
              "    </tr>\n",
              "    <tr>\n",
              "      <th>1149</th>\n",
              "      <td>Order ID</td>\n",
              "      <td>Product</td>\n",
              "      <td>Quantity Ordered</td>\n",
              "      <td>Price Each</td>\n",
              "      <td>Order Date</td>\n",
              "      <td>Purchase Address</td>\n",
              "    </tr>\n",
              "    <tr>\n",
              "      <th>1155</th>\n",
              "      <td>Order ID</td>\n",
              "      <td>Product</td>\n",
              "      <td>Quantity Ordered</td>\n",
              "      <td>Price Each</td>\n",
              "      <td>Order Date</td>\n",
              "      <td>Purchase Address</td>\n",
              "    </tr>\n",
              "    <tr>\n",
              "      <th>2878</th>\n",
              "      <td>Order ID</td>\n",
              "      <td>Product</td>\n",
              "      <td>Quantity Ordered</td>\n",
              "      <td>Price Each</td>\n",
              "      <td>Order Date</td>\n",
              "      <td>Purchase Address</td>\n",
              "    </tr>\n",
              "    <tr>\n",
              "      <th>2893</th>\n",
              "      <td>Order ID</td>\n",
              "      <td>Product</td>\n",
              "      <td>Quantity Ordered</td>\n",
              "      <td>Price Each</td>\n",
              "      <td>Order Date</td>\n",
              "      <td>Purchase Address</td>\n",
              "    </tr>\n",
              "    <tr>\n",
              "      <th>...</th>\n",
              "      <td>...</td>\n",
              "      <td>...</td>\n",
              "      <td>...</td>\n",
              "      <td>...</td>\n",
              "      <td>...</td>\n",
              "      <td>...</td>\n",
              "    </tr>\n",
              "    <tr>\n",
              "      <th>10000</th>\n",
              "      <td>Order ID</td>\n",
              "      <td>Product</td>\n",
              "      <td>Quantity Ordered</td>\n",
              "      <td>Price Each</td>\n",
              "      <td>Order Date</td>\n",
              "      <td>Purchase Address</td>\n",
              "    </tr>\n",
              "    <tr>\n",
              "      <th>10387</th>\n",
              "      <td>Order ID</td>\n",
              "      <td>Product</td>\n",
              "      <td>Quantity Ordered</td>\n",
              "      <td>Price Each</td>\n",
              "      <td>Order Date</td>\n",
              "      <td>Purchase Address</td>\n",
              "    </tr>\n",
              "    <tr>\n",
              "      <th>11399</th>\n",
              "      <td>Order ID</td>\n",
              "      <td>Product</td>\n",
              "      <td>Quantity Ordered</td>\n",
              "      <td>Price Each</td>\n",
              "      <td>Order Date</td>\n",
              "      <td>Purchase Address</td>\n",
              "    </tr>\n",
              "    <tr>\n",
              "      <th>11468</th>\n",
              "      <td>Order ID</td>\n",
              "      <td>Product</td>\n",
              "      <td>Quantity Ordered</td>\n",
              "      <td>Price Each</td>\n",
              "      <td>Order Date</td>\n",
              "      <td>Purchase Address</td>\n",
              "    </tr>\n",
              "    <tr>\n",
              "      <th>11574</th>\n",
              "      <td>Order ID</td>\n",
              "      <td>Product</td>\n",
              "      <td>Quantity Ordered</td>\n",
              "      <td>Price Each</td>\n",
              "      <td>Order Date</td>\n",
              "      <td>Purchase Address</td>\n",
              "    </tr>\n",
              "  </tbody>\n",
              "</table>\n",
              "<p>355 rows × 6 columns</p>\n",
              "</div>"
            ],
            "text/plain": [
              "       Order ID  Product  Quantity Ordered  Price Each  Order Date  \\\n",
              "519    Order ID  Product  Quantity Ordered  Price Each  Order Date   \n",
              "1149   Order ID  Product  Quantity Ordered  Price Each  Order Date   \n",
              "1155   Order ID  Product  Quantity Ordered  Price Each  Order Date   \n",
              "2878   Order ID  Product  Quantity Ordered  Price Each  Order Date   \n",
              "2893   Order ID  Product  Quantity Ordered  Price Each  Order Date   \n",
              "...         ...      ...               ...         ...         ...   \n",
              "10000  Order ID  Product  Quantity Ordered  Price Each  Order Date   \n",
              "10387  Order ID  Product  Quantity Ordered  Price Each  Order Date   \n",
              "11399  Order ID  Product  Quantity Ordered  Price Each  Order Date   \n",
              "11468  Order ID  Product  Quantity Ordered  Price Each  Order Date   \n",
              "11574  Order ID  Product  Quantity Ordered  Price Each  Order Date   \n",
              "\n",
              "       Purchase Address  \n",
              "519    Purchase Address  \n",
              "1149   Purchase Address  \n",
              "1155   Purchase Address  \n",
              "2878   Purchase Address  \n",
              "2893   Purchase Address  \n",
              "...                 ...  \n",
              "10000  Purchase Address  \n",
              "10387  Purchase Address  \n",
              "11399  Purchase Address  \n",
              "11468  Purchase Address  \n",
              "11574  Purchase Address  \n",
              "\n",
              "[355 rows x 6 columns]"
            ]
          },
          "execution_count": 22,
          "metadata": {},
          "output_type": "execute_result"
        }
      ],
      "source": [
        "df[df['Order Date'] == \"Order Date\"]"
      ]
    },
    {
      "cell_type": "code",
      "execution_count": 23,
      "metadata": {
        "colab": {
          "base_uri": "https://localhost:8080/",
          "height": 415
        },
        "id": "xufeA7Iko31W",
        "outputId": "c37449a4-bdc2-49f6-936d-3ef016c54f95"
      },
      "outputs": [
        {
          "data": {
            "text/html": [
              "<div>\n",
              "<style scoped>\n",
              "    .dataframe tbody tr th:only-of-type {\n",
              "        vertical-align: middle;\n",
              "    }\n",
              "\n",
              "    .dataframe tbody tr th {\n",
              "        vertical-align: top;\n",
              "    }\n",
              "\n",
              "    .dataframe thead th {\n",
              "        text-align: right;\n",
              "    }\n",
              "</style>\n",
              "<table border=\"1\" class=\"dataframe\">\n",
              "  <thead>\n",
              "    <tr style=\"text-align: right;\">\n",
              "      <th></th>\n",
              "      <th>Order ID</th>\n",
              "      <th>Product</th>\n",
              "      <th>Quantity Ordered</th>\n",
              "      <th>Price Each</th>\n",
              "      <th>Order Date</th>\n",
              "      <th>Purchase Address</th>\n",
              "    </tr>\n",
              "  </thead>\n",
              "  <tbody>\n",
              "    <tr>\n",
              "      <th>519</th>\n",
              "      <td>Order ID</td>\n",
              "      <td>Product</td>\n",
              "      <td>Quantity Ordered</td>\n",
              "      <td>Price Each</td>\n",
              "      <td>Order Date</td>\n",
              "      <td>Purchase Address</td>\n",
              "    </tr>\n",
              "    <tr>\n",
              "      <th>1149</th>\n",
              "      <td>Order ID</td>\n",
              "      <td>Product</td>\n",
              "      <td>Quantity Ordered</td>\n",
              "      <td>Price Each</td>\n",
              "      <td>Order Date</td>\n",
              "      <td>Purchase Address</td>\n",
              "    </tr>\n",
              "    <tr>\n",
              "      <th>1155</th>\n",
              "      <td>Order ID</td>\n",
              "      <td>Product</td>\n",
              "      <td>Quantity Ordered</td>\n",
              "      <td>Price Each</td>\n",
              "      <td>Order Date</td>\n",
              "      <td>Purchase Address</td>\n",
              "    </tr>\n",
              "    <tr>\n",
              "      <th>2878</th>\n",
              "      <td>Order ID</td>\n",
              "      <td>Product</td>\n",
              "      <td>Quantity Ordered</td>\n",
              "      <td>Price Each</td>\n",
              "      <td>Order Date</td>\n",
              "      <td>Purchase Address</td>\n",
              "    </tr>\n",
              "    <tr>\n",
              "      <th>2893</th>\n",
              "      <td>Order ID</td>\n",
              "      <td>Product</td>\n",
              "      <td>Quantity Ordered</td>\n",
              "      <td>Price Each</td>\n",
              "      <td>Order Date</td>\n",
              "      <td>Purchase Address</td>\n",
              "    </tr>\n",
              "    <tr>\n",
              "      <th>...</th>\n",
              "      <td>...</td>\n",
              "      <td>...</td>\n",
              "      <td>...</td>\n",
              "      <td>...</td>\n",
              "      <td>...</td>\n",
              "      <td>...</td>\n",
              "    </tr>\n",
              "    <tr>\n",
              "      <th>10000</th>\n",
              "      <td>Order ID</td>\n",
              "      <td>Product</td>\n",
              "      <td>Quantity Ordered</td>\n",
              "      <td>Price Each</td>\n",
              "      <td>Order Date</td>\n",
              "      <td>Purchase Address</td>\n",
              "    </tr>\n",
              "    <tr>\n",
              "      <th>10387</th>\n",
              "      <td>Order ID</td>\n",
              "      <td>Product</td>\n",
              "      <td>Quantity Ordered</td>\n",
              "      <td>Price Each</td>\n",
              "      <td>Order Date</td>\n",
              "      <td>Purchase Address</td>\n",
              "    </tr>\n",
              "    <tr>\n",
              "      <th>11399</th>\n",
              "      <td>Order ID</td>\n",
              "      <td>Product</td>\n",
              "      <td>Quantity Ordered</td>\n",
              "      <td>Price Each</td>\n",
              "      <td>Order Date</td>\n",
              "      <td>Purchase Address</td>\n",
              "    </tr>\n",
              "    <tr>\n",
              "      <th>11468</th>\n",
              "      <td>Order ID</td>\n",
              "      <td>Product</td>\n",
              "      <td>Quantity Ordered</td>\n",
              "      <td>Price Each</td>\n",
              "      <td>Order Date</td>\n",
              "      <td>Purchase Address</td>\n",
              "    </tr>\n",
              "    <tr>\n",
              "      <th>11574</th>\n",
              "      <td>Order ID</td>\n",
              "      <td>Product</td>\n",
              "      <td>Quantity Ordered</td>\n",
              "      <td>Price Each</td>\n",
              "      <td>Order Date</td>\n",
              "      <td>Purchase Address</td>\n",
              "    </tr>\n",
              "  </tbody>\n",
              "</table>\n",
              "<p>355 rows × 6 columns</p>\n",
              "</div>"
            ],
            "text/plain": [
              "       Order ID  Product  Quantity Ordered  Price Each  Order Date  \\\n",
              "519    Order ID  Product  Quantity Ordered  Price Each  Order Date   \n",
              "1149   Order ID  Product  Quantity Ordered  Price Each  Order Date   \n",
              "1155   Order ID  Product  Quantity Ordered  Price Each  Order Date   \n",
              "2878   Order ID  Product  Quantity Ordered  Price Each  Order Date   \n",
              "2893   Order ID  Product  Quantity Ordered  Price Each  Order Date   \n",
              "...         ...      ...               ...         ...         ...   \n",
              "10000  Order ID  Product  Quantity Ordered  Price Each  Order Date   \n",
              "10387  Order ID  Product  Quantity Ordered  Price Each  Order Date   \n",
              "11399  Order ID  Product  Quantity Ordered  Price Each  Order Date   \n",
              "11468  Order ID  Product  Quantity Ordered  Price Each  Order Date   \n",
              "11574  Order ID  Product  Quantity Ordered  Price Each  Order Date   \n",
              "\n",
              "       Purchase Address  \n",
              "519    Purchase Address  \n",
              "1149   Purchase Address  \n",
              "1155   Purchase Address  \n",
              "2878   Purchase Address  \n",
              "2893   Purchase Address  \n",
              "...                 ...  \n",
              "10000  Purchase Address  \n",
              "10387  Purchase Address  \n",
              "11399  Purchase Address  \n",
              "11468  Purchase Address  \n",
              "11574  Purchase Address  \n",
              "\n",
              "[355 rows x 6 columns]"
            ]
          },
          "execution_count": 23,
          "metadata": {},
          "output_type": "execute_result"
        }
      ],
      "source": [
        "df.loc[~df['Order ID'].str.isdigit(), : ]"
      ]
    },
    {
      "cell_type": "code",
      "execution_count": 25,
      "metadata": {
        "id": "BPgb1-0Ip3lD"
      },
      "outputs": [],
      "source": [
        "df_clean = df.drop(df.loc[df['Order Date'] == \"Order Date\", :].index)"
      ]
    },
    {
      "cell_type": "code",
      "execution_count": 26,
      "metadata": {
        "colab": {
          "base_uri": "https://localhost:8080/",
          "height": 49
        },
        "id": "8bka_lRUrDge",
        "outputId": "9c9659c2-7590-41d5-c4f6-b953585418b6"
      },
      "outputs": [
        {
          "data": {
            "text/html": [
              "<div>\n",
              "<style scoped>\n",
              "    .dataframe tbody tr th:only-of-type {\n",
              "        vertical-align: middle;\n",
              "    }\n",
              "\n",
              "    .dataframe tbody tr th {\n",
              "        vertical-align: top;\n",
              "    }\n",
              "\n",
              "    .dataframe thead th {\n",
              "        text-align: right;\n",
              "    }\n",
              "</style>\n",
              "<table border=\"1\" class=\"dataframe\">\n",
              "  <thead>\n",
              "    <tr style=\"text-align: right;\">\n",
              "      <th></th>\n",
              "      <th>Order ID</th>\n",
              "      <th>Product</th>\n",
              "      <th>Quantity Ordered</th>\n",
              "      <th>Price Each</th>\n",
              "      <th>Order Date</th>\n",
              "      <th>Purchase Address</th>\n",
              "    </tr>\n",
              "  </thead>\n",
              "  <tbody>\n",
              "  </tbody>\n",
              "</table>\n",
              "</div>"
            ],
            "text/plain": [
              "Empty DataFrame\n",
              "Columns: [Order ID, Product, Quantity Ordered, Price Each, Order Date, Purchase Address]\n",
              "Index: []"
            ]
          },
          "execution_count": 26,
          "metadata": {},
          "output_type": "execute_result"
        }
      ],
      "source": [
        "df_clean.loc[~df_clean['Order ID'].str.isdigit(), : ]"
      ]
    },
    {
      "cell_type": "markdown",
      "metadata": {
        "id": "2RnhyvXNqFtl"
      },
      "source": [
        "Changement des Types"
      ]
    },
    {
      "cell_type": "code",
      "execution_count": 27,
      "metadata": {
        "colab": {
          "base_uri": "https://localhost:8080/",
          "height": 306
        },
        "id": "r5y2c1otp_0G",
        "outputId": "fd9ce2a7-45ff-4db9-cc0d-eb53900b5a4f"
      },
      "outputs": [
        {
          "data": {
            "text/html": [
              "<div>\n",
              "<style scoped>\n",
              "    .dataframe tbody tr th:only-of-type {\n",
              "        vertical-align: middle;\n",
              "    }\n",
              "\n",
              "    .dataframe tbody tr th {\n",
              "        vertical-align: top;\n",
              "    }\n",
              "\n",
              "    .dataframe thead th {\n",
              "        text-align: right;\n",
              "    }\n",
              "</style>\n",
              "<table border=\"1\" class=\"dataframe\">\n",
              "  <thead>\n",
              "    <tr style=\"text-align: right;\">\n",
              "      <th></th>\n",
              "      <th>Order ID</th>\n",
              "      <th>Product</th>\n",
              "      <th>Quantity Ordered</th>\n",
              "      <th>Price Each</th>\n",
              "      <th>Order Date</th>\n",
              "      <th>Purchase Address</th>\n",
              "    </tr>\n",
              "  </thead>\n",
              "  <tbody>\n",
              "    <tr>\n",
              "      <th>0</th>\n",
              "      <td>176558</td>\n",
              "      <td>USB-C Charging Cable</td>\n",
              "      <td>2</td>\n",
              "      <td>11.95</td>\n",
              "      <td>04/19/19 08:46</td>\n",
              "      <td>917 1st St, Dallas, TX 75001</td>\n",
              "    </tr>\n",
              "    <tr>\n",
              "      <th>2</th>\n",
              "      <td>176559</td>\n",
              "      <td>Bose SoundSport Headphones</td>\n",
              "      <td>1</td>\n",
              "      <td>99.99</td>\n",
              "      <td>04/07/19 22:30</td>\n",
              "      <td>682 Chestnut St, Boston, MA 02215</td>\n",
              "    </tr>\n",
              "    <tr>\n",
              "      <th>3</th>\n",
              "      <td>176560</td>\n",
              "      <td>Google Phone</td>\n",
              "      <td>1</td>\n",
              "      <td>600</td>\n",
              "      <td>04/12/19 14:38</td>\n",
              "      <td>669 Spruce St, Los Angeles, CA 90001</td>\n",
              "    </tr>\n",
              "    <tr>\n",
              "      <th>4</th>\n",
              "      <td>176560</td>\n",
              "      <td>Wired Headphones</td>\n",
              "      <td>1</td>\n",
              "      <td>11.99</td>\n",
              "      <td>04/12/19 14:38</td>\n",
              "      <td>669 Spruce St, Los Angeles, CA 90001</td>\n",
              "    </tr>\n",
              "    <tr>\n",
              "      <th>5</th>\n",
              "      <td>176561</td>\n",
              "      <td>Wired Headphones</td>\n",
              "      <td>1</td>\n",
              "      <td>11.99</td>\n",
              "      <td>04/30/19 09:27</td>\n",
              "      <td>333 8th St, Los Angeles, CA 90001</td>\n",
              "    </tr>\n",
              "  </tbody>\n",
              "</table>\n",
              "</div>"
            ],
            "text/plain": [
              "  Order ID                     Product Quantity Ordered Price Each  \\\n",
              "0   176558        USB-C Charging Cable                2      11.95   \n",
              "2   176559  Bose SoundSport Headphones                1      99.99   \n",
              "3   176560                Google Phone                1        600   \n",
              "4   176560            Wired Headphones                1      11.99   \n",
              "5   176561            Wired Headphones                1      11.99   \n",
              "\n",
              "       Order Date                      Purchase Address  \n",
              "0  04/19/19 08:46          917 1st St, Dallas, TX 75001  \n",
              "2  04/07/19 22:30     682 Chestnut St, Boston, MA 02215  \n",
              "3  04/12/19 14:38  669 Spruce St, Los Angeles, CA 90001  \n",
              "4  04/12/19 14:38  669 Spruce St, Los Angeles, CA 90001  \n",
              "5  04/30/19 09:27     333 8th St, Los Angeles, CA 90001  "
            ]
          },
          "execution_count": 27,
          "metadata": {},
          "output_type": "execute_result"
        }
      ],
      "source": [
        "df_clean.head()"
      ]
    },
    {
      "cell_type": "code",
      "execution_count": 28,
      "metadata": {
        "colab": {
          "base_uri": "https://localhost:8080/"
        },
        "id": "5ZOQtW39qKtb",
        "outputId": "9c42716b-21bd-46a8-c83c-aec6b2a3b39d"
      },
      "outputs": [],
      "source": [
        "df_clean['Quantity Ordered'] = df_clean['Quantity Ordered'].astype('int')"
      ]
    },
    {
      "cell_type": "code",
      "execution_count": 29,
      "metadata": {
        "colab": {
          "base_uri": "https://localhost:8080/"
        },
        "id": "zjqb7KUPq-uX",
        "outputId": "4c914476-d175-4b7b-eec1-db3dad50c74a"
      },
      "outputs": [],
      "source": [
        "df_clean['Price Each'] = pd.to_numeric(df_clean['Price Each'])"
      ]
    },
    {
      "cell_type": "code",
      "execution_count": 30,
      "metadata": {
        "colab": {
          "base_uri": "https://localhost:8080/"
        },
        "id": "go-5k6lwr5pe",
        "outputId": "be663e19-7265-4dcd-e49f-50de00e95af3"
      },
      "outputs": [
        {
          "name": "stdout",
          "output_type": "stream",
          "text": [
            "<class 'pandas.core.frame.DataFrame'>\n",
            "Int64Index: 182735 entries, 0 to 11685\n",
            "Data columns (total 6 columns):\n",
            " #   Column            Non-Null Count   Dtype  \n",
            "---  ------            --------------   -----  \n",
            " 0   Order ID          182735 non-null  object \n",
            " 1   Product           182735 non-null  object \n",
            " 2   Quantity Ordered  182735 non-null  int32  \n",
            " 3   Price Each        182735 non-null  float64\n",
            " 4   Order Date        182735 non-null  object \n",
            " 5   Purchase Address  182735 non-null  object \n",
            "dtypes: float64(1), int32(1), object(4)\n",
            "memory usage: 9.1+ MB\n"
          ]
        }
      ],
      "source": [
        "df_clean.info()"
      ]
    },
    {
      "cell_type": "code",
      "execution_count": 31,
      "metadata": {
        "colab": {
          "base_uri": "https://localhost:8080/"
        },
        "id": "j5DmptSxr-IO",
        "outputId": "a10e068a-b5ee-49fa-9754-aea89ca05aba"
      },
      "outputs": [],
      "source": [
        "df_clean['Order Date'] = pd.to_datetime(df_clean['Order Date'])"
      ]
    },
    {
      "cell_type": "code",
      "execution_count": 32,
      "metadata": {
        "colab": {
          "base_uri": "https://localhost:8080/"
        },
        "id": "zbwJvYk5sJSO",
        "outputId": "479db95a-8790-41fb-c2a7-f399ecfb8355"
      },
      "outputs": [
        {
          "name": "stdout",
          "output_type": "stream",
          "text": [
            "<class 'pandas.core.frame.DataFrame'>\n",
            "Int64Index: 182735 entries, 0 to 11685\n",
            "Data columns (total 6 columns):\n",
            " #   Column            Non-Null Count   Dtype         \n",
            "---  ------            --------------   -----         \n",
            " 0   Order ID          182735 non-null  object        \n",
            " 1   Product           182735 non-null  object        \n",
            " 2   Quantity Ordered  182735 non-null  int32         \n",
            " 3   Price Each        182735 non-null  float64       \n",
            " 4   Order Date        182735 non-null  datetime64[ns]\n",
            " 5   Purchase Address  182735 non-null  object        \n",
            "dtypes: datetime64[ns](1), float64(1), int32(1), object(3)\n",
            "memory usage: 9.1+ MB\n"
          ]
        }
      ],
      "source": [
        "df_clean.info()"
      ]
    },
    {
      "cell_type": "code",
      "execution_count": 33,
      "metadata": {
        "colab": {
          "base_uri": "https://localhost:8080/"
        },
        "id": "OhkKSeQGskID",
        "outputId": "eee10efa-3c89-4558-dc5f-39cc43fbc111"
      },
      "outputs": [
        {
          "data": {
            "text/plain": [
              "0        04/19/19 08:46\n",
              "2        04/07/19 22:30\n",
              "3        04/12/19 14:38\n",
              "4        04/12/19 14:38\n",
              "5        04/30/19 09:27\n",
              "              ...      \n",
              "11681    09/17/19 20:56\n",
              "11682    09/01/19 16:00\n",
              "11683    09/23/19 07:39\n",
              "11684    09/19/19 17:30\n",
              "11685    09/30/19 00:18\n",
              "Name: Order Date, Length: 186305, dtype: object"
            ]
          },
          "execution_count": 33,
          "metadata": {},
          "output_type": "execute_result"
        }
      ],
      "source": [
        "df['Order Date']"
      ]
    },
    {
      "cell_type": "code",
      "execution_count": 34,
      "metadata": {
        "colab": {
          "base_uri": "https://localhost:8080/"
        },
        "id": "KcDUXX-Msvcw",
        "outputId": "3cef5abe-74cc-42e4-e60f-179a79e4b735"
      },
      "outputs": [
        {
          "data": {
            "text/plain": [
              "0       2019-04-19 08:46:00\n",
              "2       2019-04-07 22:30:00\n",
              "3       2019-04-12 14:38:00\n",
              "4       2019-04-12 14:38:00\n",
              "5       2019-04-30 09:27:00\n",
              "                ...        \n",
              "11681   2019-09-17 20:56:00\n",
              "11682   2019-09-01 16:00:00\n",
              "11683   2019-09-23 07:39:00\n",
              "11684   2019-09-19 17:30:00\n",
              "11685   2019-09-30 00:18:00\n",
              "Name: Order Date, Length: 182735, dtype: datetime64[ns]"
            ]
          },
          "execution_count": 34,
          "metadata": {},
          "output_type": "execute_result"
        }
      ],
      "source": [
        "df_clean['Order Date']"
      ]
    },
    {
      "cell_type": "markdown",
      "metadata": {
        "id": "GilkeYhpsdIM"
      },
      "source": [
        "## Analyse Exploratoire proprement dite"
      ]
    },
    {
      "cell_type": "markdown",
      "metadata": {
        "id": "TjhtLeBvs9ib"
      },
      "source": [
        "## Quel est le meilleur mois de vente ? et Quel est le chiffre d'affaires de ce mois ?"
      ]
    },
    {
      "cell_type": "code",
      "execution_count": 35,
      "metadata": {
        "colab": {
          "base_uri": "https://localhost:8080/",
          "height": 306
        },
        "id": "MaM7ag8esTPU",
        "outputId": "51f6343e-34b1-44cc-bf69-94ea55e9b65e"
      },
      "outputs": [
        {
          "data": {
            "text/html": [
              "<div>\n",
              "<style scoped>\n",
              "    .dataframe tbody tr th:only-of-type {\n",
              "        vertical-align: middle;\n",
              "    }\n",
              "\n",
              "    .dataframe tbody tr th {\n",
              "        vertical-align: top;\n",
              "    }\n",
              "\n",
              "    .dataframe thead th {\n",
              "        text-align: right;\n",
              "    }\n",
              "</style>\n",
              "<table border=\"1\" class=\"dataframe\">\n",
              "  <thead>\n",
              "    <tr style=\"text-align: right;\">\n",
              "      <th></th>\n",
              "      <th>Order ID</th>\n",
              "      <th>Product</th>\n",
              "      <th>Quantity Ordered</th>\n",
              "      <th>Price Each</th>\n",
              "      <th>Order Date</th>\n",
              "      <th>Purchase Address</th>\n",
              "    </tr>\n",
              "  </thead>\n",
              "  <tbody>\n",
              "    <tr>\n",
              "      <th>0</th>\n",
              "      <td>176558</td>\n",
              "      <td>USB-C Charging Cable</td>\n",
              "      <td>2</td>\n",
              "      <td>11.95</td>\n",
              "      <td>2019-04-19 08:46:00</td>\n",
              "      <td>917 1st St, Dallas, TX 75001</td>\n",
              "    </tr>\n",
              "    <tr>\n",
              "      <th>2</th>\n",
              "      <td>176559</td>\n",
              "      <td>Bose SoundSport Headphones</td>\n",
              "      <td>1</td>\n",
              "      <td>99.99</td>\n",
              "      <td>2019-04-07 22:30:00</td>\n",
              "      <td>682 Chestnut St, Boston, MA 02215</td>\n",
              "    </tr>\n",
              "    <tr>\n",
              "      <th>3</th>\n",
              "      <td>176560</td>\n",
              "      <td>Google Phone</td>\n",
              "      <td>1</td>\n",
              "      <td>600.00</td>\n",
              "      <td>2019-04-12 14:38:00</td>\n",
              "      <td>669 Spruce St, Los Angeles, CA 90001</td>\n",
              "    </tr>\n",
              "    <tr>\n",
              "      <th>4</th>\n",
              "      <td>176560</td>\n",
              "      <td>Wired Headphones</td>\n",
              "      <td>1</td>\n",
              "      <td>11.99</td>\n",
              "      <td>2019-04-12 14:38:00</td>\n",
              "      <td>669 Spruce St, Los Angeles, CA 90001</td>\n",
              "    </tr>\n",
              "    <tr>\n",
              "      <th>5</th>\n",
              "      <td>176561</td>\n",
              "      <td>Wired Headphones</td>\n",
              "      <td>1</td>\n",
              "      <td>11.99</td>\n",
              "      <td>2019-04-30 09:27:00</td>\n",
              "      <td>333 8th St, Los Angeles, CA 90001</td>\n",
              "    </tr>\n",
              "  </tbody>\n",
              "</table>\n",
              "</div>"
            ],
            "text/plain": [
              "  Order ID                     Product  Quantity Ordered  Price Each  \\\n",
              "0   176558        USB-C Charging Cable                 2       11.95   \n",
              "2   176559  Bose SoundSport Headphones                 1       99.99   \n",
              "3   176560                Google Phone                 1      600.00   \n",
              "4   176560            Wired Headphones                 1       11.99   \n",
              "5   176561            Wired Headphones                 1       11.99   \n",
              "\n",
              "           Order Date                      Purchase Address  \n",
              "0 2019-04-19 08:46:00          917 1st St, Dallas, TX 75001  \n",
              "2 2019-04-07 22:30:00     682 Chestnut St, Boston, MA 02215  \n",
              "3 2019-04-12 14:38:00  669 Spruce St, Los Angeles, CA 90001  \n",
              "4 2019-04-12 14:38:00  669 Spruce St, Los Angeles, CA 90001  \n",
              "5 2019-04-30 09:27:00     333 8th St, Los Angeles, CA 90001  "
            ]
          },
          "execution_count": 35,
          "metadata": {},
          "output_type": "execute_result"
        }
      ],
      "source": [
        "df_clean.head()"
      ]
    },
    {
      "cell_type": "code",
      "execution_count": 36,
      "metadata": {
        "colab": {
          "base_uri": "https://localhost:8080/"
        },
        "id": "dgo-F4ZmtcDj",
        "outputId": "147cad9a-d099-40a5-d20c-d266efc2a687"
      },
      "outputs": [
        {
          "data": {
            "text/plain": [
              "Int64Index([    0,     2,     3,     4,     5,     6,     7,     8,     9,\n",
              "               10,\n",
              "            ...\n",
              "            11676, 11677, 11678, 11679, 11680, 11681, 11682, 11683, 11684,\n",
              "            11685],\n",
              "           dtype='int64', length=182735)"
            ]
          },
          "execution_count": 36,
          "metadata": {},
          "output_type": "execute_result"
        }
      ],
      "source": [
        "df_clean.index"
      ]
    },
    {
      "cell_type": "code",
      "execution_count": 37,
      "metadata": {
        "id": "g_lAeWm1tgn0"
      },
      "outputs": [],
      "source": [
        "df_clean  = df_clean.set_index('Order Date')"
      ]
    },
    {
      "cell_type": "code",
      "execution_count": 38,
      "metadata": {
        "colab": {
          "base_uri": "https://localhost:8080/",
          "height": 337
        },
        "id": "597mOhnKtniD",
        "outputId": "dfba60cd-9ba2-4da0-e4f0-360a763e1d26"
      },
      "outputs": [
        {
          "data": {
            "text/html": [
              "<div>\n",
              "<style scoped>\n",
              "    .dataframe tbody tr th:only-of-type {\n",
              "        vertical-align: middle;\n",
              "    }\n",
              "\n",
              "    .dataframe tbody tr th {\n",
              "        vertical-align: top;\n",
              "    }\n",
              "\n",
              "    .dataframe thead th {\n",
              "        text-align: right;\n",
              "    }\n",
              "</style>\n",
              "<table border=\"1\" class=\"dataframe\">\n",
              "  <thead>\n",
              "    <tr style=\"text-align: right;\">\n",
              "      <th></th>\n",
              "      <th>Order ID</th>\n",
              "      <th>Product</th>\n",
              "      <th>Quantity Ordered</th>\n",
              "      <th>Price Each</th>\n",
              "      <th>Purchase Address</th>\n",
              "    </tr>\n",
              "    <tr>\n",
              "      <th>Order Date</th>\n",
              "      <th></th>\n",
              "      <th></th>\n",
              "      <th></th>\n",
              "      <th></th>\n",
              "      <th></th>\n",
              "    </tr>\n",
              "  </thead>\n",
              "  <tbody>\n",
              "    <tr>\n",
              "      <th>2019-04-19 08:46:00</th>\n",
              "      <td>176558</td>\n",
              "      <td>USB-C Charging Cable</td>\n",
              "      <td>2</td>\n",
              "      <td>11.95</td>\n",
              "      <td>917 1st St, Dallas, TX 75001</td>\n",
              "    </tr>\n",
              "    <tr>\n",
              "      <th>2019-04-07 22:30:00</th>\n",
              "      <td>176559</td>\n",
              "      <td>Bose SoundSport Headphones</td>\n",
              "      <td>1</td>\n",
              "      <td>99.99</td>\n",
              "      <td>682 Chestnut St, Boston, MA 02215</td>\n",
              "    </tr>\n",
              "    <tr>\n",
              "      <th>2019-04-12 14:38:00</th>\n",
              "      <td>176560</td>\n",
              "      <td>Google Phone</td>\n",
              "      <td>1</td>\n",
              "      <td>600.00</td>\n",
              "      <td>669 Spruce St, Los Angeles, CA 90001</td>\n",
              "    </tr>\n",
              "    <tr>\n",
              "      <th>2019-04-12 14:38:00</th>\n",
              "      <td>176560</td>\n",
              "      <td>Wired Headphones</td>\n",
              "      <td>1</td>\n",
              "      <td>11.99</td>\n",
              "      <td>669 Spruce St, Los Angeles, CA 90001</td>\n",
              "    </tr>\n",
              "    <tr>\n",
              "      <th>2019-04-30 09:27:00</th>\n",
              "      <td>176561</td>\n",
              "      <td>Wired Headphones</td>\n",
              "      <td>1</td>\n",
              "      <td>11.99</td>\n",
              "      <td>333 8th St, Los Angeles, CA 90001</td>\n",
              "    </tr>\n",
              "  </tbody>\n",
              "</table>\n",
              "</div>"
            ],
            "text/plain": [
              "                    Order ID                     Product  Quantity Ordered  \\\n",
              "Order Date                                                                   \n",
              "2019-04-19 08:46:00   176558        USB-C Charging Cable                 2   \n",
              "2019-04-07 22:30:00   176559  Bose SoundSport Headphones                 1   \n",
              "2019-04-12 14:38:00   176560                Google Phone                 1   \n",
              "2019-04-12 14:38:00   176560            Wired Headphones                 1   \n",
              "2019-04-30 09:27:00   176561            Wired Headphones                 1   \n",
              "\n",
              "                     Price Each                      Purchase Address  \n",
              "Order Date                                                             \n",
              "2019-04-19 08:46:00       11.95          917 1st St, Dallas, TX 75001  \n",
              "2019-04-07 22:30:00       99.99     682 Chestnut St, Boston, MA 02215  \n",
              "2019-04-12 14:38:00      600.00  669 Spruce St, Los Angeles, CA 90001  \n",
              "2019-04-12 14:38:00       11.99  669 Spruce St, Los Angeles, CA 90001  \n",
              "2019-04-30 09:27:00       11.99     333 8th St, Los Angeles, CA 90001  "
            ]
          },
          "execution_count": 38,
          "metadata": {},
          "output_type": "execute_result"
        }
      ],
      "source": [
        "df_clean.head()"
      ]
    },
    {
      "cell_type": "code",
      "execution_count": 39,
      "metadata": {
        "id": "gNP_oRjit2Yi"
      },
      "outputs": [],
      "source": [
        "df_clean.sort_index(inplace=True)"
      ]
    },
    {
      "cell_type": "code",
      "execution_count": 40,
      "metadata": {
        "colab": {
          "base_uri": "https://localhost:8080/",
          "height": 337
        },
        "id": "byvuiiWuuA6u",
        "outputId": "e8ac58cc-b860-4c97-9936-555b7edaf8dd"
      },
      "outputs": [
        {
          "data": {
            "text/html": [
              "<div>\n",
              "<style scoped>\n",
              "    .dataframe tbody tr th:only-of-type {\n",
              "        vertical-align: middle;\n",
              "    }\n",
              "\n",
              "    .dataframe tbody tr th {\n",
              "        vertical-align: top;\n",
              "    }\n",
              "\n",
              "    .dataframe thead th {\n",
              "        text-align: right;\n",
              "    }\n",
              "</style>\n",
              "<table border=\"1\" class=\"dataframe\">\n",
              "  <thead>\n",
              "    <tr style=\"text-align: right;\">\n",
              "      <th></th>\n",
              "      <th>Order ID</th>\n",
              "      <th>Product</th>\n",
              "      <th>Quantity Ordered</th>\n",
              "      <th>Price Each</th>\n",
              "      <th>Purchase Address</th>\n",
              "    </tr>\n",
              "    <tr>\n",
              "      <th>Order Date</th>\n",
              "      <th></th>\n",
              "      <th></th>\n",
              "      <th></th>\n",
              "      <th></th>\n",
              "      <th></th>\n",
              "    </tr>\n",
              "  </thead>\n",
              "  <tbody>\n",
              "    <tr>\n",
              "      <th>2019-01-01 03:07:00</th>\n",
              "      <td>147268</td>\n",
              "      <td>Wired Headphones</td>\n",
              "      <td>1</td>\n",
              "      <td>11.99</td>\n",
              "      <td>9 Lake St, New York City, NY 10001</td>\n",
              "    </tr>\n",
              "    <tr>\n",
              "      <th>2019-01-01 03:40:00</th>\n",
              "      <td>148041</td>\n",
              "      <td>USB-C Charging Cable</td>\n",
              "      <td>1</td>\n",
              "      <td>11.95</td>\n",
              "      <td>760 Church St, San Francisco, CA 94016</td>\n",
              "    </tr>\n",
              "    <tr>\n",
              "      <th>2019-01-01 04:56:00</th>\n",
              "      <td>149343</td>\n",
              "      <td>Apple Airpods Headphones</td>\n",
              "      <td>1</td>\n",
              "      <td>150.00</td>\n",
              "      <td>735 5th St, New York City, NY 10001</td>\n",
              "    </tr>\n",
              "    <tr>\n",
              "      <th>2019-01-01 05:53:00</th>\n",
              "      <td>149964</td>\n",
              "      <td>AAA Batteries (4-pack)</td>\n",
              "      <td>1</td>\n",
              "      <td>2.99</td>\n",
              "      <td>75 Jackson St, Dallas, TX 75001</td>\n",
              "    </tr>\n",
              "    <tr>\n",
              "      <th>2019-01-01 06:03:00</th>\n",
              "      <td>149350</td>\n",
              "      <td>USB-C Charging Cable</td>\n",
              "      <td>2</td>\n",
              "      <td>11.95</td>\n",
              "      <td>943 2nd St, Atlanta, GA 30301</td>\n",
              "    </tr>\n",
              "  </tbody>\n",
              "</table>\n",
              "</div>"
            ],
            "text/plain": [
              "                    Order ID                   Product  Quantity Ordered  \\\n",
              "Order Date                                                                 \n",
              "2019-01-01 03:07:00   147268          Wired Headphones                 1   \n",
              "2019-01-01 03:40:00   148041      USB-C Charging Cable                 1   \n",
              "2019-01-01 04:56:00   149343  Apple Airpods Headphones                 1   \n",
              "2019-01-01 05:53:00   149964    AAA Batteries (4-pack)                 1   \n",
              "2019-01-01 06:03:00   149350      USB-C Charging Cable                 2   \n",
              "\n",
              "                     Price Each                        Purchase Address  \n",
              "Order Date                                                               \n",
              "2019-01-01 03:07:00       11.99      9 Lake St, New York City, NY 10001  \n",
              "2019-01-01 03:40:00       11.95  760 Church St, San Francisco, CA 94016  \n",
              "2019-01-01 04:56:00      150.00     735 5th St, New York City, NY 10001  \n",
              "2019-01-01 05:53:00        2.99         75 Jackson St, Dallas, TX 75001  \n",
              "2019-01-01 06:03:00       11.95           943 2nd St, Atlanta, GA 30301  "
            ]
          },
          "execution_count": 40,
          "metadata": {},
          "output_type": "execute_result"
        }
      ],
      "source": [
        "df_clean.head()"
      ]
    },
    {
      "cell_type": "code",
      "execution_count": 41,
      "metadata": {
        "id": "-9qQ1TxyuOKc"
      },
      "outputs": [],
      "source": [
        "df_clean['Month'] = df_clean.index.month_name()"
      ]
    },
    {
      "cell_type": "code",
      "execution_count": 42,
      "metadata": {
        "colab": {
          "base_uri": "https://localhost:8080/",
          "height": 337
        },
        "id": "f5gtIM9DuZfT",
        "outputId": "5f128f57-e906-4bce-b3a8-e702f19ab883"
      },
      "outputs": [
        {
          "data": {
            "text/html": [
              "<div>\n",
              "<style scoped>\n",
              "    .dataframe tbody tr th:only-of-type {\n",
              "        vertical-align: middle;\n",
              "    }\n",
              "\n",
              "    .dataframe tbody tr th {\n",
              "        vertical-align: top;\n",
              "    }\n",
              "\n",
              "    .dataframe thead th {\n",
              "        text-align: right;\n",
              "    }\n",
              "</style>\n",
              "<table border=\"1\" class=\"dataframe\">\n",
              "  <thead>\n",
              "    <tr style=\"text-align: right;\">\n",
              "      <th></th>\n",
              "      <th>Order ID</th>\n",
              "      <th>Product</th>\n",
              "      <th>Quantity Ordered</th>\n",
              "      <th>Price Each</th>\n",
              "      <th>Purchase Address</th>\n",
              "      <th>Month</th>\n",
              "    </tr>\n",
              "    <tr>\n",
              "      <th>Order Date</th>\n",
              "      <th></th>\n",
              "      <th></th>\n",
              "      <th></th>\n",
              "      <th></th>\n",
              "      <th></th>\n",
              "      <th></th>\n",
              "    </tr>\n",
              "  </thead>\n",
              "  <tbody>\n",
              "    <tr>\n",
              "      <th>2019-01-01 03:07:00</th>\n",
              "      <td>147268</td>\n",
              "      <td>Wired Headphones</td>\n",
              "      <td>1</td>\n",
              "      <td>11.99</td>\n",
              "      <td>9 Lake St, New York City, NY 10001</td>\n",
              "      <td>January</td>\n",
              "    </tr>\n",
              "    <tr>\n",
              "      <th>2019-01-01 03:40:00</th>\n",
              "      <td>148041</td>\n",
              "      <td>USB-C Charging Cable</td>\n",
              "      <td>1</td>\n",
              "      <td>11.95</td>\n",
              "      <td>760 Church St, San Francisco, CA 94016</td>\n",
              "      <td>January</td>\n",
              "    </tr>\n",
              "    <tr>\n",
              "      <th>2019-01-01 04:56:00</th>\n",
              "      <td>149343</td>\n",
              "      <td>Apple Airpods Headphones</td>\n",
              "      <td>1</td>\n",
              "      <td>150.00</td>\n",
              "      <td>735 5th St, New York City, NY 10001</td>\n",
              "      <td>January</td>\n",
              "    </tr>\n",
              "    <tr>\n",
              "      <th>2019-01-01 05:53:00</th>\n",
              "      <td>149964</td>\n",
              "      <td>AAA Batteries (4-pack)</td>\n",
              "      <td>1</td>\n",
              "      <td>2.99</td>\n",
              "      <td>75 Jackson St, Dallas, TX 75001</td>\n",
              "      <td>January</td>\n",
              "    </tr>\n",
              "    <tr>\n",
              "      <th>2019-01-01 06:03:00</th>\n",
              "      <td>149350</td>\n",
              "      <td>USB-C Charging Cable</td>\n",
              "      <td>2</td>\n",
              "      <td>11.95</td>\n",
              "      <td>943 2nd St, Atlanta, GA 30301</td>\n",
              "      <td>January</td>\n",
              "    </tr>\n",
              "  </tbody>\n",
              "</table>\n",
              "</div>"
            ],
            "text/plain": [
              "                    Order ID                   Product  Quantity Ordered  \\\n",
              "Order Date                                                                 \n",
              "2019-01-01 03:07:00   147268          Wired Headphones                 1   \n",
              "2019-01-01 03:40:00   148041      USB-C Charging Cable                 1   \n",
              "2019-01-01 04:56:00   149343  Apple Airpods Headphones                 1   \n",
              "2019-01-01 05:53:00   149964    AAA Batteries (4-pack)                 1   \n",
              "2019-01-01 06:03:00   149350      USB-C Charging Cable                 2   \n",
              "\n",
              "                     Price Each                        Purchase Address  \\\n",
              "Order Date                                                                \n",
              "2019-01-01 03:07:00       11.99      9 Lake St, New York City, NY 10001   \n",
              "2019-01-01 03:40:00       11.95  760 Church St, San Francisco, CA 94016   \n",
              "2019-01-01 04:56:00      150.00     735 5th St, New York City, NY 10001   \n",
              "2019-01-01 05:53:00        2.99         75 Jackson St, Dallas, TX 75001   \n",
              "2019-01-01 06:03:00       11.95           943 2nd St, Atlanta, GA 30301   \n",
              "\n",
              "                       Month  \n",
              "Order Date                    \n",
              "2019-01-01 03:07:00  January  \n",
              "2019-01-01 03:40:00  January  \n",
              "2019-01-01 04:56:00  January  \n",
              "2019-01-01 05:53:00  January  \n",
              "2019-01-01 06:03:00  January  "
            ]
          },
          "execution_count": 42,
          "metadata": {},
          "output_type": "execute_result"
        }
      ],
      "source": [
        "df_clean.head()"
      ]
    },
    {
      "cell_type": "code",
      "execution_count": 43,
      "metadata": {
        "id": "ZZZ45FWPwl6C"
      },
      "outputs": [],
      "source": [
        "df_clean['chiffre_daffaire'] = df_clean['Quantity Ordered'] * df_clean['Price Each']"
      ]
    },
    {
      "cell_type": "code",
      "execution_count": 44,
      "metadata": {
        "colab": {
          "base_uri": "https://localhost:8080/",
          "height": 354
        },
        "id": "yntUqZGDw12s",
        "outputId": "285b2795-4c1e-4759-a3fe-9b4333a8ad1b"
      },
      "outputs": [
        {
          "data": {
            "text/html": [
              "<div>\n",
              "<style scoped>\n",
              "    .dataframe tbody tr th:only-of-type {\n",
              "        vertical-align: middle;\n",
              "    }\n",
              "\n",
              "    .dataframe tbody tr th {\n",
              "        vertical-align: top;\n",
              "    }\n",
              "\n",
              "    .dataframe thead th {\n",
              "        text-align: right;\n",
              "    }\n",
              "</style>\n",
              "<table border=\"1\" class=\"dataframe\">\n",
              "  <thead>\n",
              "    <tr style=\"text-align: right;\">\n",
              "      <th></th>\n",
              "      <th>Order ID</th>\n",
              "      <th>Product</th>\n",
              "      <th>Quantity Ordered</th>\n",
              "      <th>Price Each</th>\n",
              "      <th>Purchase Address</th>\n",
              "      <th>Month</th>\n",
              "      <th>chiffre_daffaire</th>\n",
              "    </tr>\n",
              "    <tr>\n",
              "      <th>Order Date</th>\n",
              "      <th></th>\n",
              "      <th></th>\n",
              "      <th></th>\n",
              "      <th></th>\n",
              "      <th></th>\n",
              "      <th></th>\n",
              "      <th></th>\n",
              "    </tr>\n",
              "  </thead>\n",
              "  <tbody>\n",
              "    <tr>\n",
              "      <th>2019-05-29 22:56:00</th>\n",
              "      <td>207171</td>\n",
              "      <td>27in 4K Gaming Monitor</td>\n",
              "      <td>1</td>\n",
              "      <td>389.99</td>\n",
              "      <td>670 Hill St, Los Angeles, CA 90001</td>\n",
              "      <td>May</td>\n",
              "      <td>389.99</td>\n",
              "    </tr>\n",
              "    <tr>\n",
              "      <th>2019-07-16 11:12:00</th>\n",
              "      <td>228601</td>\n",
              "      <td>27in FHD Monitor</td>\n",
              "      <td>1</td>\n",
              "      <td>149.99</td>\n",
              "      <td>523 8th St, New York City, NY 10001</td>\n",
              "      <td>July</td>\n",
              "      <td>149.99</td>\n",
              "    </tr>\n",
              "    <tr>\n",
              "      <th>2019-01-09 18:14:00</th>\n",
              "      <td>141261</td>\n",
              "      <td>USB-C Charging Cable</td>\n",
              "      <td>1</td>\n",
              "      <td>11.95</td>\n",
              "      <td>840 Lincoln St, Atlanta, GA 30301</td>\n",
              "      <td>January</td>\n",
              "      <td>11.95</td>\n",
              "    </tr>\n",
              "    <tr>\n",
              "      <th>2019-04-22 10:45:00</th>\n",
              "      <td>191638</td>\n",
              "      <td>27in 4K Gaming Monitor</td>\n",
              "      <td>1</td>\n",
              "      <td>389.99</td>\n",
              "      <td>3 West St, San Francisco, CA 94016</td>\n",
              "      <td>April</td>\n",
              "      <td>389.99</td>\n",
              "    </tr>\n",
              "    <tr>\n",
              "      <th>2019-04-16 14:38:00</th>\n",
              "      <td>188162</td>\n",
              "      <td>iPhone</td>\n",
              "      <td>1</td>\n",
              "      <td>700.00</td>\n",
              "      <td>368 5th St, Seattle, WA 98101</td>\n",
              "      <td>April</td>\n",
              "      <td>700.00</td>\n",
              "    </tr>\n",
              "  </tbody>\n",
              "</table>\n",
              "</div>"
            ],
            "text/plain": [
              "                    Order ID                 Product  Quantity Ordered  \\\n",
              "Order Date                                                               \n",
              "2019-05-29 22:56:00   207171  27in 4K Gaming Monitor                 1   \n",
              "2019-07-16 11:12:00   228601        27in FHD Monitor                 1   \n",
              "2019-01-09 18:14:00   141261    USB-C Charging Cable                 1   \n",
              "2019-04-22 10:45:00   191638  27in 4K Gaming Monitor                 1   \n",
              "2019-04-16 14:38:00   188162                  iPhone                 1   \n",
              "\n",
              "                     Price Each                     Purchase Address    Month  \\\n",
              "Order Date                                                                      \n",
              "2019-05-29 22:56:00      389.99   670 Hill St, Los Angeles, CA 90001      May   \n",
              "2019-07-16 11:12:00      149.99  523 8th St, New York City, NY 10001     July   \n",
              "2019-01-09 18:14:00       11.95    840 Lincoln St, Atlanta, GA 30301  January   \n",
              "2019-04-22 10:45:00      389.99   3 West St, San Francisco, CA 94016    April   \n",
              "2019-04-16 14:38:00      700.00        368 5th St, Seattle, WA 98101    April   \n",
              "\n",
              "                     chiffre_daffaire  \n",
              "Order Date                             \n",
              "2019-05-29 22:56:00            389.99  \n",
              "2019-07-16 11:12:00            149.99  \n",
              "2019-01-09 18:14:00             11.95  \n",
              "2019-04-22 10:45:00            389.99  \n",
              "2019-04-16 14:38:00            700.00  "
            ]
          },
          "execution_count": 44,
          "metadata": {},
          "output_type": "execute_result"
        }
      ],
      "source": [
        "df_clean.sample(5)"
      ]
    },
    {
      "cell_type": "code",
      "execution_count": 45,
      "metadata": {
        "colab": {
          "base_uri": "https://localhost:8080/"
        },
        "id": "s1jfUE5-vy37",
        "outputId": "25166a89-9bad-4fce-86e4-4957310bc3f1"
      },
      "outputs": [
        {
          "data": {
            "text/plain": [
              "Month\n",
              "December     4557905.42\n",
              "October      3679254.16\n",
              "April        3336376.42\n",
              "November     3149785.09\n",
              "May          3101881.04\n",
              "March        2755969.40\n",
              "July         2587444.91\n",
              "June         2524464.99\n",
              "August       2191698.31\n",
              "February     2158127.48\n",
              "September    2050361.26\n",
              "January      1786511.29\n",
              "Name: chiffre_daffaire, dtype: float64"
            ]
          },
          "execution_count": 45,
          "metadata": {},
          "output_type": "execute_result"
        }
      ],
      "source": [
        "df_clean.groupby('Month')[\"chiffre_daffaire\"].sum().sort_values(ascending=False)"
      ]
    },
    {
      "cell_type": "code",
      "execution_count": 46,
      "metadata": {
        "id": "Br0JvyjsyBXZ"
      },
      "outputs": [],
      "source": [
        "order = [\"January\", \"February\", \"March\", \"April\", \"May\", \"June\", \"July\", \"August\",\n",
        "                  \"September\", \"October\", \"November\", \"December\"]"
      ]
    },
    {
      "cell_type": "code",
      "execution_count": 47,
      "metadata": {
        "id": "nL7dTB3xyBXZ",
        "outputId": "859d99f7-6981-4d2f-e8d3-ef115bb3f3d9"
      },
      "outputs": [
        {
          "data": {
            "text/plain": [
              "Month\n",
              "January      1786511.29\n",
              "February     2158127.48\n",
              "March        2755969.40\n",
              "April        3336376.42\n",
              "May          3101881.04\n",
              "June         2524464.99\n",
              "July         2587444.91\n",
              "August       2191698.31\n",
              "September    2050361.26\n",
              "October      3679254.16\n",
              "November     3149785.09\n",
              "December     4557905.42\n",
              "Name: chiffre_daffaire, dtype: float64"
            ]
          },
          "execution_count": 47,
          "metadata": {},
          "output_type": "execute_result"
        }
      ],
      "source": [
        "df_clean.groupby('Month')[\"chiffre_daffaire\"].sum().loc[order]"
      ]
    },
    {
      "cell_type": "code",
      "execution_count": 48,
      "metadata": {
        "id": "gdwiHs3wyBXb",
        "outputId": "3f73e804-27c4-4265-c836-cbac8bffd6d0"
      },
      "outputs": [
        {
          "data": {
            "text/plain": [
              "Text(0.5, 1.0, \"Chiffre d'affaire global par mois\")"
            ]
          },
          "execution_count": 48,
          "metadata": {},
          "output_type": "execute_result"
        },
        {
          "data": {
            "image/png": "[encoded data removed]",
            "text/plain": [
              "<Figure size 1000x800 with 1 Axes>"
            ]
          },
          "metadata": {},
          "output_type": "display_data"
        }
      ],
      "source": [
        "df_clean.groupby('Month')[\"chiffre_daffaire\"].sum().loc[order].plot.bar(figsize=(10, 8))\n",
        "plt.title(\"Chiffre d'affaire global par mois\")"
      ]
    },
    {
      "cell_type": "markdown",
      "metadata": {
        "id": "iLAoa3s1xKF3"
      },
      "source": [
        "Décembre est le mois avec le plus de ventes et le CA est de 4557905.420001525"
      ]
    },
    {
      "cell_type": "markdown",
      "metadata": {
        "id": "WrMLrbSRxWti"
      },
      "source": [
        "## Dans quelle ville a-t-on le plus vendu de produits ?"
      ]
    },
    {
      "cell_type": "code",
      "execution_count": 49,
      "metadata": {
        "colab": {
          "base_uri": "https://localhost:8080/"
        },
        "id": "QdOwNQtasuXD",
        "outputId": "3798a34b-db62-4858-caad-1c88e0f25d9b"
      },
      "outputs": [
        {
          "data": {
            "text/plain": [
              "array(['9 Lake St, New York City, NY 10001',\n",
              "       '760 Church St, San Francisco, CA 94016',\n",
              "       '735 5th St, New York City, NY 10001', ...,\n",
              "       '731 7th St, New York City, NY 10001',\n",
              "       '754 Hickory St, New York City, NY 10001',\n",
              "       '657 Spruce St, New York City, NY 10001'], dtype=object)"
            ]
          },
          "execution_count": 49,
          "metadata": {},
          "output_type": "execute_result"
        }
      ],
      "source": [
        "df_clean['Purchase Address'].unique()"
      ]
    },
    {
      "cell_type": "code",
      "execution_count": 50,
      "metadata": {
        "id": "CN73Q-zjyjix"
      },
      "outputs": [],
      "source": [
        "def get_ville(addresse):\n",
        "  return addresse.split(',')[1].strip()"
      ]
    },
    {
      "cell_type": "code",
      "execution_count": 51,
      "metadata": {
        "colab": {
          "base_uri": "https://localhost:8080/",
          "height": 35
        },
        "id": "9bX_0hjyyuHB",
        "outputId": "cdc00165-d9fe-49ac-b250-b3f218bddd1a"
      },
      "outputs": [
        {
          "data": {
            "text/plain": [
              "'San Francisco'"
            ]
          },
          "execution_count": 51,
          "metadata": {},
          "output_type": "execute_result"
        }
      ],
      "source": [
        "get_ville(\"760 Church St, San Francisco, CA 94016\")"
      ]
    },
    {
      "cell_type": "code",
      "execution_count": 52,
      "metadata": {
        "id": "l8mIGHUCxrTB"
      },
      "outputs": [],
      "source": [
        "df_clean['ville'] = df_clean['Purchase Address'].apply(get_ville)"
      ]
    },
    {
      "cell_type": "code",
      "execution_count": 53,
      "metadata": {
        "colab": {
          "base_uri": "https://localhost:8080/",
          "height": 406
        },
        "id": "I9KOLVviyY9n",
        "outputId": "7f8c4b2e-94fd-4ccb-b72d-42812ebf79d2"
      },
      "outputs": [
        {
          "data": {
            "text/html": [
              "<div>\n",
              "<style scoped>\n",
              "    .dataframe tbody tr th:only-of-type {\n",
              "        vertical-align: middle;\n",
              "    }\n",
              "\n",
              "    .dataframe tbody tr th {\n",
              "        vertical-align: top;\n",
              "    }\n",
              "\n",
              "    .dataframe thead th {\n",
              "        text-align: right;\n",
              "    }\n",
              "</style>\n",
              "<table border=\"1\" class=\"dataframe\">\n",
              "  <thead>\n",
              "    <tr style=\"text-align: right;\">\n",
              "      <th></th>\n",
              "      <th>Order ID</th>\n",
              "      <th>Product</th>\n",
              "      <th>Quantity Ordered</th>\n",
              "      <th>Price Each</th>\n",
              "      <th>Purchase Address</th>\n",
              "      <th>Month</th>\n",
              "      <th>chiffre_daffaire</th>\n",
              "      <th>ville</th>\n",
              "    </tr>\n",
              "    <tr>\n",
              "      <th>Order Date</th>\n",
              "      <th></th>\n",
              "      <th></th>\n",
              "      <th></th>\n",
              "      <th></th>\n",
              "      <th></th>\n",
              "      <th></th>\n",
              "      <th></th>\n",
              "      <th></th>\n",
              "    </tr>\n",
              "  </thead>\n",
              "  <tbody>\n",
              "    <tr>\n",
              "      <th>2019-12-31 19:45:00</th>\n",
              "      <td>313381</td>\n",
              "      <td>ThinkPad Laptop</td>\n",
              "      <td>1</td>\n",
              "      <td>999.99</td>\n",
              "      <td>208 Cherry St, Atlanta, GA 30301</td>\n",
              "      <td>December</td>\n",
              "      <td>999.99</td>\n",
              "      <td>Atlanta</td>\n",
              "    </tr>\n",
              "    <tr>\n",
              "      <th>2019-10-13 13:39:00</th>\n",
              "      <td>263312</td>\n",
              "      <td>AA Batteries (4-pack)</td>\n",
              "      <td>1</td>\n",
              "      <td>3.84</td>\n",
              "      <td>503 Highland St, Los Angeles, CA 90001</td>\n",
              "      <td>October</td>\n",
              "      <td>3.84</td>\n",
              "      <td>Los Angeles</td>\n",
              "    </tr>\n",
              "    <tr>\n",
              "      <th>2019-11-18 17:33:00</th>\n",
              "      <td>286253</td>\n",
              "      <td>Wired Headphones</td>\n",
              "      <td>2</td>\n",
              "      <td>11.99</td>\n",
              "      <td>904 Maple St, Portland, OR 97035</td>\n",
              "      <td>November</td>\n",
              "      <td>23.98</td>\n",
              "      <td>Portland</td>\n",
              "    </tr>\n",
              "    <tr>\n",
              "      <th>2019-01-12 16:49:00</th>\n",
              "      <td>143725</td>\n",
              "      <td>Apple Airpods Headphones</td>\n",
              "      <td>1</td>\n",
              "      <td>150.00</td>\n",
              "      <td>618 Lakeview St, San Francisco, CA 94016</td>\n",
              "      <td>January</td>\n",
              "      <td>150.00</td>\n",
              "      <td>San Francisco</td>\n",
              "    </tr>\n",
              "    <tr>\n",
              "      <th>2019-03-10 09:49:00</th>\n",
              "      <td>170483</td>\n",
              "      <td>Wired Headphones</td>\n",
              "      <td>1</td>\n",
              "      <td>11.99</td>\n",
              "      <td>658 Jefferson St, San Francisco, CA 94016</td>\n",
              "      <td>March</td>\n",
              "      <td>11.99</td>\n",
              "      <td>San Francisco</td>\n",
              "    </tr>\n",
              "  </tbody>\n",
              "</table>\n",
              "</div>"
            ],
            "text/plain": [
              "                    Order ID                   Product  Quantity Ordered  \\\n",
              "Order Date                                                                 \n",
              "2019-12-31 19:45:00   313381           ThinkPad Laptop                 1   \n",
              "2019-10-13 13:39:00   263312     AA Batteries (4-pack)                 1   \n",
              "2019-11-18 17:33:00   286253          Wired Headphones                 2   \n",
              "2019-01-12 16:49:00   143725  Apple Airpods Headphones                 1   \n",
              "2019-03-10 09:49:00   170483          Wired Headphones                 1   \n",
              "\n",
              "                     Price Each                           Purchase Address  \\\n",
              "Order Date                                                                   \n",
              "2019-12-31 19:45:00      999.99           208 Cherry St, Atlanta, GA 30301   \n",
              "2019-10-13 13:39:00        3.84     503 Highland St, Los Angeles, CA 90001   \n",
              "2019-11-18 17:33:00       11.99           904 Maple St, Portland, OR 97035   \n",
              "2019-01-12 16:49:00      150.00   618 Lakeview St, San Francisco, CA 94016   \n",
              "2019-03-10 09:49:00       11.99  658 Jefferson St, San Francisco, CA 94016   \n",
              "\n",
              "                        Month  chiffre_daffaire          ville  \n",
              "Order Date                                                      \n",
              "2019-12-31 19:45:00  December            999.99        Atlanta  \n",
              "2019-10-13 13:39:00   October              3.84    Los Angeles  \n",
              "2019-11-18 17:33:00  November             23.98       Portland  \n",
              "2019-01-12 16:49:00   January            150.00  San Francisco  \n",
              "2019-03-10 09:49:00     March             11.99  San Francisco  "
            ]
          },
          "execution_count": 53,
          "metadata": {},
          "output_type": "execute_result"
        }
      ],
      "source": [
        "df_clean.sample(5)"
      ]
    },
    {
      "cell_type": "code",
      "execution_count": 54,
      "metadata": {
        "colab": {
          "base_uri": "https://localhost:8080/"
        },
        "id": "05Cct63gzb68",
        "outputId": "94f4c19c-b4f7-495b-ef37-380560109912"
      },
      "outputs": [
        {
          "data": {
            "text/plain": [
              "array(['New York City', 'San Francisco', 'Dallas', 'Atlanta', 'Boston',\n",
              "       'Seattle', 'Los Angeles', 'Portland', 'Austin'], dtype=object)"
            ]
          },
          "execution_count": 54,
          "metadata": {},
          "output_type": "execute_result"
        }
      ],
      "source": [
        "df_clean['ville'].unique()"
      ]
    },
    {
      "cell_type": "code",
      "execution_count": 55,
      "metadata": {
        "colab": {
          "base_uri": "https://localhost:8080/"
        },
        "id": "lbsRQaUczjBx",
        "outputId": "6f798d7b-4e8c-4e3b-e850-215f425fd517"
      },
      "outputs": [
        {
          "data": {
            "text/plain": [
              "ville\n",
              "San Francisco    8124120.94\n",
              "Los Angeles      5354039.93\n",
              "New York City    4581658.91\n",
              "Boston           3604080.86\n",
              "Atlanta          2741642.05\n",
              "Dallas           2717793.72\n",
              "Seattle          2693048.60\n",
              "Portland         2276649.24\n",
              "Austin           1786745.52\n",
              "Name: chiffre_daffaire, dtype: float64"
            ]
          },
          "execution_count": 55,
          "metadata": {},
          "output_type": "execute_result"
        }
      ],
      "source": [
        "df_clean.groupby('ville').sum()[\"chiffre_daffaire\"].sort_values(ascending=False)"
      ]
    },
    {
      "cell_type": "code",
      "execution_count": 56,
      "metadata": {
        "id": "rqxcf3yAyBXj",
        "outputId": "9a4ec8eb-0681-46e1-9d77-014571db9905"
      },
      "outputs": [
        {
          "data": {
            "text/plain": [
              "<AxesSubplot:ylabel='ville'>"
            ]
          },
          "execution_count": 56,
          "metadata": {},
          "output_type": "execute_result"
        },
        {
          "data": {
            "image/png": "[encoded data removed]",
            "text/plain": [
              "<Figure size 1000x800 with 1 Axes>"
            ]
          },
          "metadata": {},
          "output_type": "display_data"
        }
      ],
      "source": [
        "df_clean.groupby('ville').sum()[\"chiffre_daffaire\"].sort_values(ascending=False).plot.barh(figsize=(10, 8))"
      ]
    },
    {
      "cell_type": "markdown",
      "metadata": {
        "id": "LNiDb5xz0dJR"
      },
      "source": [
        "On a fait un meilleur chiffre d'affaire à San Francisco"
      ]
    },
    {
      "cell_type": "markdown",
      "metadata": {
        "id": "L3ZQhuR61dJ9"
      },
      "source": [
        "## A quelle heure devons-nous passer de la publicité pour augmenter nos ventes ?"
      ]
    },
    {
      "cell_type": "markdown",
      "metadata": {
        "id": "hU-uHCRv182C"
      },
      "source": [
        "A quelle heure on vend le plus ?"
      ]
    },
    {
      "cell_type": "code",
      "execution_count": 57,
      "metadata": {
        "id": "zLlE6Z-m06RZ"
      },
      "outputs": [],
      "source": [
        "df_clean['heure'] = df_clean.index.hour\n",
        "df_clean['time'] = df_clean.index.time"
      ]
    },
    {
      "cell_type": "code",
      "execution_count": 58,
      "metadata": {
        "colab": {
          "base_uri": "https://localhost:8080/",
          "height": 547
        },
        "id": "x5F6Buln2HV-",
        "outputId": "7b563da8-c2e8-4954-9f8b-2fdd345a7b3b"
      },
      "outputs": [
        {
          "data": {
            "text/html": [
              "<div>\n",
              "<style scoped>\n",
              "    .dataframe tbody tr th:only-of-type {\n",
              "        vertical-align: middle;\n",
              "    }\n",
              "\n",
              "    .dataframe tbody tr th {\n",
              "        vertical-align: top;\n",
              "    }\n",
              "\n",
              "    .dataframe thead th {\n",
              "        text-align: right;\n",
              "    }\n",
              "</style>\n",
              "<table border=\"1\" class=\"dataframe\">\n",
              "  <thead>\n",
              "    <tr style=\"text-align: right;\">\n",
              "      <th></th>\n",
              "      <th>Order ID</th>\n",
              "      <th>Product</th>\n",
              "      <th>Quantity Ordered</th>\n",
              "      <th>Price Each</th>\n",
              "      <th>Purchase Address</th>\n",
              "      <th>Month</th>\n",
              "      <th>chiffre_daffaire</th>\n",
              "      <th>ville</th>\n",
              "      <th>heure</th>\n",
              "      <th>time</th>\n",
              "    </tr>\n",
              "    <tr>\n",
              "      <th>Order Date</th>\n",
              "      <th></th>\n",
              "      <th></th>\n",
              "      <th></th>\n",
              "      <th></th>\n",
              "      <th></th>\n",
              "      <th></th>\n",
              "      <th></th>\n",
              "      <th></th>\n",
              "      <th></th>\n",
              "      <th></th>\n",
              "    </tr>\n",
              "  </thead>\n",
              "  <tbody>\n",
              "    <tr>\n",
              "      <th>2019-01-01 03:07:00</th>\n",
              "      <td>147268</td>\n",
              "      <td>Wired Headphones</td>\n",
              "      <td>1</td>\n",
              "      <td>11.99</td>\n",
              "      <td>9 Lake St, New York City, NY 10001</td>\n",
              "      <td>January</td>\n",
              "      <td>11.99</td>\n",
              "      <td>New York City</td>\n",
              "      <td>3</td>\n",
              "      <td>03:07:00</td>\n",
              "    </tr>\n",
              "    <tr>\n",
              "      <th>2019-01-01 03:40:00</th>\n",
              "      <td>148041</td>\n",
              "      <td>USB-C Charging Cable</td>\n",
              "      <td>1</td>\n",
              "      <td>11.95</td>\n",
              "      <td>760 Church St, San Francisco, CA 94016</td>\n",
              "      <td>January</td>\n",
              "      <td>11.95</td>\n",
              "      <td>San Francisco</td>\n",
              "      <td>3</td>\n",
              "      <td>03:40:00</td>\n",
              "    </tr>\n",
              "    <tr>\n",
              "      <th>2019-01-01 04:56:00</th>\n",
              "      <td>149343</td>\n",
              "      <td>Apple Airpods Headphones</td>\n",
              "      <td>1</td>\n",
              "      <td>150.00</td>\n",
              "      <td>735 5th St, New York City, NY 10001</td>\n",
              "      <td>January</td>\n",
              "      <td>150.00</td>\n",
              "      <td>New York City</td>\n",
              "      <td>4</td>\n",
              "      <td>04:56:00</td>\n",
              "    </tr>\n",
              "    <tr>\n",
              "      <th>2019-01-01 05:53:00</th>\n",
              "      <td>149964</td>\n",
              "      <td>AAA Batteries (4-pack)</td>\n",
              "      <td>1</td>\n",
              "      <td>2.99</td>\n",
              "      <td>75 Jackson St, Dallas, TX 75001</td>\n",
              "      <td>January</td>\n",
              "      <td>2.99</td>\n",
              "      <td>Dallas</td>\n",
              "      <td>5</td>\n",
              "      <td>05:53:00</td>\n",
              "    </tr>\n",
              "    <tr>\n",
              "      <th>2019-01-01 06:03:00</th>\n",
              "      <td>149350</td>\n",
              "      <td>USB-C Charging Cable</td>\n",
              "      <td>2</td>\n",
              "      <td>11.95</td>\n",
              "      <td>943 2nd St, Atlanta, GA 30301</td>\n",
              "      <td>January</td>\n",
              "      <td>23.90</td>\n",
              "      <td>Atlanta</td>\n",
              "      <td>6</td>\n",
              "      <td>06:03:00</td>\n",
              "    </tr>\n",
              "  </tbody>\n",
              "</table>\n",
              "</div>"
            ],
            "text/plain": [
              "                    Order ID                   Product  Quantity Ordered  \\\n",
              "Order Date                                                                 \n",
              "2019-01-01 03:07:00   147268          Wired Headphones                 1   \n",
              "2019-01-01 03:40:00   148041      USB-C Charging Cable                 1   \n",
              "2019-01-01 04:56:00   149343  Apple Airpods Headphones                 1   \n",
              "2019-01-01 05:53:00   149964    AAA Batteries (4-pack)                 1   \n",
              "2019-01-01 06:03:00   149350      USB-C Charging Cable                 2   \n",
              "\n",
              "                     Price Each                        Purchase Address  \\\n",
              "Order Date                                                                \n",
              "2019-01-01 03:07:00       11.99      9 Lake St, New York City, NY 10001   \n",
              "2019-01-01 03:40:00       11.95  760 Church St, San Francisco, CA 94016   \n",
              "2019-01-01 04:56:00      150.00     735 5th St, New York City, NY 10001   \n",
              "2019-01-01 05:53:00        2.99         75 Jackson St, Dallas, TX 75001   \n",
              "2019-01-01 06:03:00       11.95           943 2nd St, Atlanta, GA 30301   \n",
              "\n",
              "                       Month  chiffre_daffaire          ville  heure      time  \n",
              "Order Date                                                                      \n",
              "2019-01-01 03:07:00  January             11.99  New York City      3  03:07:00  \n",
              "2019-01-01 03:40:00  January             11.95  San Francisco      3  03:40:00  \n",
              "2019-01-01 04:56:00  January            150.00  New York City      4  04:56:00  \n",
              "2019-01-01 05:53:00  January              2.99         Dallas      5  05:53:00  \n",
              "2019-01-01 06:03:00  January             23.90        Atlanta      6  06:03:00  "
            ]
          },
          "execution_count": 58,
          "metadata": {},
          "output_type": "execute_result"
        }
      ],
      "source": [
        "df_clean.head()"
      ]
    },
    {
      "cell_type": "code",
      "execution_count": 59,
      "metadata": {
        "colab": {
          "base_uri": "https://localhost:8080/"
        },
        "id": "fPncQ-gc2kNx",
        "outputId": "fefeafa5-6415-4ef7-ed0a-12445878d0be"
      },
      "outputs": [
        {
          "data": {
            "text/plain": [
              "heure\n",
              "19    2370005.59\n",
              "12    2269676.91\n",
              "11    2267169.73\n",
              "20    2242856.37\n",
              "18    2176209.65\n",
              "13    2118394.83\n",
              "17    2086082.23\n",
              "14    2045085.42\n",
              "21    2013288.02\n",
              "10    1907179.29\n",
              "15    1900151.56\n",
              "16    1864530.92\n",
              "9     1612498.90\n",
              "22    1578173.21\n",
              "8     1181363.76\n",
              "23    1161803.96\n",
              "7      734595.75\n",
              "0      698694.76\n",
              "1      447663.86\n",
              "6      441523.14\n",
              "2      234191.08\n",
              "5      224313.72\n",
              "4      161350.57\n",
              "3      142976.54\n",
              "Name: chiffre_daffaire, dtype: float64"
            ]
          },
          "execution_count": 59,
          "metadata": {},
          "output_type": "execute_result"
        }
      ],
      "source": [
        "df_clean.groupby('heure')['chiffre_daffaire'].sum().sort_values(ascending=False)"
      ]
    },
    {
      "cell_type": "code",
      "execution_count": 60,
      "metadata": {
        "id": "BJK4a4q55hI6"
      },
      "outputs": [],
      "source": [
        "ca_par_heure = pd.DataFrame(df_clean.groupby('heure')['chiffre_daffaire'].sum())"
      ]
    },
    {
      "cell_type": "code",
      "execution_count": 61,
      "metadata": {
        "colab": {
          "base_uri": "https://localhost:8080/",
          "height": 815
        },
        "id": "Avxm6OHH7P4G",
        "outputId": "ee21f7d3-fd7e-4012-9418-f787fd938eff"
      },
      "outputs": [
        {
          "data": {
            "text/html": [
              "<div>\n",
              "<style scoped>\n",
              "    .dataframe tbody tr th:only-of-type {\n",
              "        vertical-align: middle;\n",
              "    }\n",
              "\n",
              "    .dataframe tbody tr th {\n",
              "        vertical-align: top;\n",
              "    }\n",
              "\n",
              "    .dataframe thead th {\n",
              "        text-align: right;\n",
              "    }\n",
              "</style>\n",
              "<table border=\"1\" class=\"dataframe\">\n",
              "  <thead>\n",
              "    <tr style=\"text-align: right;\">\n",
              "      <th></th>\n",
              "      <th>chiffre_daffaire</th>\n",
              "    </tr>\n",
              "    <tr>\n",
              "      <th>heure</th>\n",
              "      <th></th>\n",
              "    </tr>\n",
              "  </thead>\n",
              "  <tbody>\n",
              "    <tr>\n",
              "      <th>0</th>\n",
              "      <td>698694.76</td>\n",
              "    </tr>\n",
              "    <tr>\n",
              "      <th>1</th>\n",
              "      <td>447663.86</td>\n",
              "    </tr>\n",
              "    <tr>\n",
              "      <th>2</th>\n",
              "      <td>234191.08</td>\n",
              "    </tr>\n",
              "    <tr>\n",
              "      <th>3</th>\n",
              "      <td>142976.54</td>\n",
              "    </tr>\n",
              "    <tr>\n",
              "      <th>4</th>\n",
              "      <td>161350.57</td>\n",
              "    </tr>\n",
              "    <tr>\n",
              "      <th>5</th>\n",
              "      <td>224313.72</td>\n",
              "    </tr>\n",
              "    <tr>\n",
              "      <th>6</th>\n",
              "      <td>441523.14</td>\n",
              "    </tr>\n",
              "    <tr>\n",
              "      <th>7</th>\n",
              "      <td>734595.75</td>\n",
              "    </tr>\n",
              "    <tr>\n",
              "      <th>8</th>\n",
              "      <td>1181363.76</td>\n",
              "    </tr>\n",
              "    <tr>\n",
              "      <th>9</th>\n",
              "      <td>1612498.90</td>\n",
              "    </tr>\n",
              "    <tr>\n",
              "      <th>10</th>\n",
              "      <td>1907179.29</td>\n",
              "    </tr>\n",
              "    <tr>\n",
              "      <th>11</th>\n",
              "      <td>2267169.73</td>\n",
              "    </tr>\n",
              "    <tr>\n",
              "      <th>12</th>\n",
              "      <td>2269676.91</td>\n",
              "    </tr>\n",
              "    <tr>\n",
              "      <th>13</th>\n",
              "      <td>2118394.83</td>\n",
              "    </tr>\n",
              "    <tr>\n",
              "      <th>14</th>\n",
              "      <td>2045085.42</td>\n",
              "    </tr>\n",
              "    <tr>\n",
              "      <th>15</th>\n",
              "      <td>1900151.56</td>\n",
              "    </tr>\n",
              "    <tr>\n",
              "      <th>16</th>\n",
              "      <td>1864530.92</td>\n",
              "    </tr>\n",
              "    <tr>\n",
              "      <th>17</th>\n",
              "      <td>2086082.23</td>\n",
              "    </tr>\n",
              "    <tr>\n",
              "      <th>18</th>\n",
              "      <td>2176209.65</td>\n",
              "    </tr>\n",
              "    <tr>\n",
              "      <th>19</th>\n",
              "      <td>2370005.59</td>\n",
              "    </tr>\n",
              "    <tr>\n",
              "      <th>20</th>\n",
              "      <td>2242856.37</td>\n",
              "    </tr>\n",
              "    <tr>\n",
              "      <th>21</th>\n",
              "      <td>2013288.02</td>\n",
              "    </tr>\n",
              "    <tr>\n",
              "      <th>22</th>\n",
              "      <td>1578173.21</td>\n",
              "    </tr>\n",
              "    <tr>\n",
              "      <th>23</th>\n",
              "      <td>1161803.96</td>\n",
              "    </tr>\n",
              "  </tbody>\n",
              "</table>\n",
              "</div>"
            ],
            "text/plain": [
              "       chiffre_daffaire\n",
              "heure                  \n",
              "0             698694.76\n",
              "1             447663.86\n",
              "2             234191.08\n",
              "3             142976.54\n",
              "4             161350.57\n",
              "5             224313.72\n",
              "6             441523.14\n",
              "7             734595.75\n",
              "8            1181363.76\n",
              "9            1612498.90\n",
              "10           1907179.29\n",
              "11           2267169.73\n",
              "12           2269676.91\n",
              "13           2118394.83\n",
              "14           2045085.42\n",
              "15           1900151.56\n",
              "16           1864530.92\n",
              "17           2086082.23\n",
              "18           2176209.65\n",
              "19           2370005.59\n",
              "20           2242856.37\n",
              "21           2013288.02\n",
              "22           1578173.21\n",
              "23           1161803.96"
            ]
          },
          "execution_count": 61,
          "metadata": {},
          "output_type": "execute_result"
        }
      ],
      "source": [
        "ca_par_heure"
      ]
    },
    {
      "cell_type": "code",
      "execution_count": 62,
      "metadata": {
        "colab": {
          "base_uri": "https://localhost:8080/",
          "height": 290
        },
        "id": "88uUq6X96lO_",
        "outputId": "24a7a02e-7047-47e8-9699-d17c9145344a"
      },
      "outputs": [
        {
          "data": {
            "image/png": "[encoded data removed]",
            "text/plain": [
              "<Figure size 640x480 with 1 Axes>"
            ]
          },
          "metadata": {},
          "output_type": "display_data"
        }
      ],
      "source": [
        "sns.lineplot(data=ca_par_heure['chiffre_daffaire'])\n",
        "plt.xticks(ticks=range(0, 24))\n",
        "plt.show()"
      ]
    },
    {
      "cell_type": "markdown",
      "metadata": {
        "id": "9wbU7Rzz70rN"
      },
      "source": [
        "On devrait afficher la publicité entre 10 et 11 et entre 18 et 19."
      ]
    },
    {
      "cell_type": "markdown",
      "metadata": {
        "id": "ltNueESOyBXw"
      },
      "source": [
        "# Produit le plus vendu"
      ]
    },
    {
      "cell_type": "code",
      "execution_count": 63,
      "metadata": {
        "id": "2rgtt-A6yBXx",
        "outputId": "1a145e14-9271-40aa-c314-4171ad6aa030"
      },
      "outputs": [
        {
          "data": {
            "text/html": [
              "<div>\n",
              "<style scoped>\n",
              "    .dataframe tbody tr th:only-of-type {\n",
              "        vertical-align: middle;\n",
              "    }\n",
              "\n",
              "    .dataframe tbody tr th {\n",
              "        vertical-align: top;\n",
              "    }\n",
              "\n",
              "    .dataframe thead th {\n",
              "        text-align: right;\n",
              "    }\n",
              "</style>\n",
              "<table border=\"1\" class=\"dataframe\">\n",
              "  <thead>\n",
              "    <tr style=\"text-align: right;\">\n",
              "      <th></th>\n",
              "      <th>Order ID</th>\n",
              "      <th>Product</th>\n",
              "      <th>Quantity Ordered</th>\n",
              "      <th>Price Each</th>\n",
              "      <th>Purchase Address</th>\n",
              "      <th>Month</th>\n",
              "      <th>chiffre_daffaire</th>\n",
              "      <th>ville</th>\n",
              "      <th>heure</th>\n",
              "      <th>time</th>\n",
              "    </tr>\n",
              "    <tr>\n",
              "      <th>Order Date</th>\n",
              "      <th></th>\n",
              "      <th></th>\n",
              "      <th></th>\n",
              "      <th></th>\n",
              "      <th></th>\n",
              "      <th></th>\n",
              "      <th></th>\n",
              "      <th></th>\n",
              "      <th></th>\n",
              "      <th></th>\n",
              "    </tr>\n",
              "  </thead>\n",
              "  <tbody>\n",
              "    <tr>\n",
              "      <th>2019-01-01 03:07:00</th>\n",
              "      <td>147268</td>\n",
              "      <td>Wired Headphones</td>\n",
              "      <td>1</td>\n",
              "      <td>11.99</td>\n",
              "      <td>9 Lake St, New York City, NY 10001</td>\n",
              "      <td>January</td>\n",
              "      <td>11.99</td>\n",
              "      <td>New York City</td>\n",
              "      <td>3</td>\n",
              "      <td>03:07:00</td>\n",
              "    </tr>\n",
              "    <tr>\n",
              "      <th>2019-01-01 03:40:00</th>\n",
              "      <td>148041</td>\n",
              "      <td>USB-C Charging Cable</td>\n",
              "      <td>1</td>\n",
              "      <td>11.95</td>\n",
              "      <td>760 Church St, San Francisco, CA 94016</td>\n",
              "      <td>January</td>\n",
              "      <td>11.95</td>\n",
              "      <td>San Francisco</td>\n",
              "      <td>3</td>\n",
              "      <td>03:40:00</td>\n",
              "    </tr>\n",
              "    <tr>\n",
              "      <th>2019-01-01 04:56:00</th>\n",
              "      <td>149343</td>\n",
              "      <td>Apple Airpods Headphones</td>\n",
              "      <td>1</td>\n",
              "      <td>150.00</td>\n",
              "      <td>735 5th St, New York City, NY 10001</td>\n",
              "      <td>January</td>\n",
              "      <td>150.00</td>\n",
              "      <td>New York City</td>\n",
              "      <td>4</td>\n",
              "      <td>04:56:00</td>\n",
              "    </tr>\n",
              "    <tr>\n",
              "      <th>2019-01-01 05:53:00</th>\n",
              "      <td>149964</td>\n",
              "      <td>AAA Batteries (4-pack)</td>\n",
              "      <td>1</td>\n",
              "      <td>2.99</td>\n",
              "      <td>75 Jackson St, Dallas, TX 75001</td>\n",
              "      <td>January</td>\n",
              "      <td>2.99</td>\n",
              "      <td>Dallas</td>\n",
              "      <td>5</td>\n",
              "      <td>05:53:00</td>\n",
              "    </tr>\n",
              "    <tr>\n",
              "      <th>2019-01-01 06:03:00</th>\n",
              "      <td>149350</td>\n",
              "      <td>USB-C Charging Cable</td>\n",
              "      <td>2</td>\n",
              "      <td>11.95</td>\n",
              "      <td>943 2nd St, Atlanta, GA 30301</td>\n",
              "      <td>January</td>\n",
              "      <td>23.90</td>\n",
              "      <td>Atlanta</td>\n",
              "      <td>6</td>\n",
              "      <td>06:03:00</td>\n",
              "    </tr>\n",
              "  </tbody>\n",
              "</table>\n",
              "</div>"
            ],
            "text/plain": [
              "                    Order ID                   Product  Quantity Ordered  \\\n",
              "Order Date                                                                 \n",
              "2019-01-01 03:07:00   147268          Wired Headphones                 1   \n",
              "2019-01-01 03:40:00   148041      USB-C Charging Cable                 1   \n",
              "2019-01-01 04:56:00   149343  Apple Airpods Headphones                 1   \n",
              "2019-01-01 05:53:00   149964    AAA Batteries (4-pack)                 1   \n",
              "2019-01-01 06:03:00   149350      USB-C Charging Cable                 2   \n",
              "\n",
              "                     Price Each                        Purchase Address  \\\n",
              "Order Date                                                                \n",
              "2019-01-01 03:07:00       11.99      9 Lake St, New York City, NY 10001   \n",
              "2019-01-01 03:40:00       11.95  760 Church St, San Francisco, CA 94016   \n",
              "2019-01-01 04:56:00      150.00     735 5th St, New York City, NY 10001   \n",
              "2019-01-01 05:53:00        2.99         75 Jackson St, Dallas, TX 75001   \n",
              "2019-01-01 06:03:00       11.95           943 2nd St, Atlanta, GA 30301   \n",
              "\n",
              "                       Month  chiffre_daffaire          ville  heure      time  \n",
              "Order Date                                                                      \n",
              "2019-01-01 03:07:00  January             11.99  New York City      3  03:07:00  \n",
              "2019-01-01 03:40:00  January             11.95  San Francisco      3  03:40:00  \n",
              "2019-01-01 04:56:00  January            150.00  New York City      4  04:56:00  \n",
              "2019-01-01 05:53:00  January              2.99         Dallas      5  05:53:00  \n",
              "2019-01-01 06:03:00  January             23.90        Atlanta      6  06:03:00  "
            ]
          },
          "execution_count": 63,
          "metadata": {},
          "output_type": "execute_result"
        }
      ],
      "source": [
        "df_clean.head()"
      ]
    },
    {
      "cell_type": "code",
      "execution_count": 64,
      "metadata": {
        "id": "r1UeuU7cyBXx",
        "outputId": "98456fc3-db24-4f66-d425-b8a9e23afb29"
      },
      "outputs": [
        {
          "data": {
            "text/plain": [
              "Product\n",
              "AAA Batteries (4-pack)        30487\n",
              "AA Batteries (4-pack)         27148\n",
              "USB-C Charging Cable          23555\n",
              "Lightning Charging Cable      22841\n",
              "Wired Headphones              20201\n",
              "Apple Airpods Headphones      15383\n",
              "Bose SoundSport Headphones    13236\n",
              "27in FHD Monitor               7429\n",
              "iPhone                         6732\n",
              "27in 4K Gaming Monitor         6134\n",
              "34in Ultrawide Monitor         6076\n",
              "Google Phone                   5440\n",
              "Flatscreen TV                  4724\n",
              "Macbook Pro Laptop             4645\n",
              "20in Monitor                   4058\n",
              "ThinkPad Laptop                4054\n",
              "Vareebadd Phone                2023\n",
              "LG Washing Machine              649\n",
              "LG Dryer                        640\n",
              "Name: Quantity Ordered, dtype: int32"
            ]
          },
          "execution_count": 64,
          "metadata": {},
          "output_type": "execute_result"
        }
      ],
      "source": [
        "df_clean.groupby('Product')['Quantity Ordered'].sum().sort_values(ascending=False)"
      ]
    }
  ],
  "metadata": {
    "colab": {
      "name": "Analyse_Exploratoire.ipynb",
      "provenance": [],
      "toc_visible": true
    },
    "kernelspec": {
      "display_name": "base",
      "language": "python",
      "name": "python3"
    },
    "language_info": {
      "codemirror_mode": {
        "name": "ipython",
        "version": 3
      },
      "file_extension": ".py",
      "mimetype": "text/x-python",
      "name": "python",
      "nbconvert_exporter": "python",
      "pygments_lexer": "ipython3",
      "version": "3.9.13"
    },
    "toc": {
      "base_numbering": 1,
      "nav_menu": {},
      "number_sections": true,
      "sideBar": true,
      "skip_h1_title": false,
      "title_cell": "Table of Contents",
      "title_sidebar": "Contents",
      "toc_cell": false,
      "toc_position": {},
      "toc_section_display": true,
      "toc_window_display": false
    },
    "varInspector": {
      "cols": {
        "lenName": 16,
        "lenType": 16,
        "lenVar": 40
      },
      "kernels_config": {
        "python": {
          "delete_cmd_postfix": "",
          "delete_cmd_prefix": "del ",
          "library": "var_list.py",
          "varRefreshCmd": "print(var_dic_list())"
        },
        "r": {
          "delete_cmd_postfix": ") ",
          "delete_cmd_prefix": "rm(",
          "library": "var_list.r",
          "varRefreshCmd": "cat(var_dic_list()) "
        }
      },
      "types_to_exclude": [
        "module",
        "function",
        "builtin_function_or_method",
        "instance",
        "_Feature"
      ],
      "window_display": false
    },
    "vscode": {
      "interpreter": {
        "hash": "ad2bdc8ecc057115af97d19610ffacc2b4e99fae6737bb82f5d7fb13d2f2c186"
      }
    }
  },
  "nbformat": 4,
  "nbformat_minor": 0
}
